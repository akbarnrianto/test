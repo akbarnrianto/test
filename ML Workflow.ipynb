{
 "cells": [
  {
   "cell_type": "code",
   "execution_count": 1,
   "id": "b1448978",
   "metadata": {},
   "outputs": [],
   "source": [
    "# Import library pengolahan struktur data\n",
    "import pandas as pd\n",
    "\n",
    "# Import library pengolahan angka\n",
    "import numpy as np"
   ]
  },
  {
   "cell_type": "code",
   "execution_count": 2,
   "id": "5cd8b4cc",
   "metadata": {},
   "outputs": [],
   "source": [
    "# Load Data\n",
    "# Simpan dengan nama bank_df\n",
    "bank_df = pd.read_csv(\"bank-data.csv\")"
   ]
  },
  {
   "cell_type": "code",
   "execution_count": 3,
   "id": "e7ca4649",
   "metadata": {},
   "outputs": [
    {
     "data": {
      "text/html": [
       "<div>\n",
       "<style scoped>\n",
       "    .dataframe tbody tr th:only-of-type {\n",
       "        vertical-align: middle;\n",
       "    }\n",
       "\n",
       "    .dataframe tbody tr th {\n",
       "        vertical-align: top;\n",
       "    }\n",
       "\n",
       "    .dataframe thead th {\n",
       "        text-align: right;\n",
       "    }\n",
       "</style>\n",
       "<table border=\"1\" class=\"dataframe\">\n",
       "  <thead>\n",
       "    <tr style=\"text-align: right;\">\n",
       "      <th></th>\n",
       "      <th>age</th>\n",
       "      <th>job</th>\n",
       "      <th>marital</th>\n",
       "      <th>education</th>\n",
       "      <th>default</th>\n",
       "      <th>balance</th>\n",
       "      <th>housing</th>\n",
       "      <th>loan</th>\n",
       "      <th>contact</th>\n",
       "      <th>day</th>\n",
       "      <th>month</th>\n",
       "      <th>duration</th>\n",
       "      <th>campaign</th>\n",
       "      <th>pdays</th>\n",
       "      <th>previous</th>\n",
       "      <th>poutcome</th>\n",
       "      <th>y</th>\n",
       "    </tr>\n",
       "  </thead>\n",
       "  <tbody>\n",
       "    <tr>\n",
       "      <th>0</th>\n",
       "      <td>58</td>\n",
       "      <td>management</td>\n",
       "      <td>married</td>\n",
       "      <td>tertiary</td>\n",
       "      <td>no</td>\n",
       "      <td>2143</td>\n",
       "      <td>yes</td>\n",
       "      <td>no</td>\n",
       "      <td>unknown</td>\n",
       "      <td>5</td>\n",
       "      <td>may</td>\n",
       "      <td>261</td>\n",
       "      <td>1</td>\n",
       "      <td>-1</td>\n",
       "      <td>0</td>\n",
       "      <td>unknown</td>\n",
       "      <td>0</td>\n",
       "    </tr>\n",
       "    <tr>\n",
       "      <th>1</th>\n",
       "      <td>44</td>\n",
       "      <td>technician</td>\n",
       "      <td>single</td>\n",
       "      <td>secondary</td>\n",
       "      <td>no</td>\n",
       "      <td>29</td>\n",
       "      <td>yes</td>\n",
       "      <td>no</td>\n",
       "      <td>unknown</td>\n",
       "      <td>5</td>\n",
       "      <td>may</td>\n",
       "      <td>151</td>\n",
       "      <td>1</td>\n",
       "      <td>-1</td>\n",
       "      <td>0</td>\n",
       "      <td>unknown</td>\n",
       "      <td>0</td>\n",
       "    </tr>\n",
       "    <tr>\n",
       "      <th>2</th>\n",
       "      <td>33</td>\n",
       "      <td>entrepreneur</td>\n",
       "      <td>married</td>\n",
       "      <td>secondary</td>\n",
       "      <td>no</td>\n",
       "      <td>2</td>\n",
       "      <td>yes</td>\n",
       "      <td>yes</td>\n",
       "      <td>unknown</td>\n",
       "      <td>5</td>\n",
       "      <td>may</td>\n",
       "      <td>76</td>\n",
       "      <td>1</td>\n",
       "      <td>-1</td>\n",
       "      <td>0</td>\n",
       "      <td>unknown</td>\n",
       "      <td>0</td>\n",
       "    </tr>\n",
       "    <tr>\n",
       "      <th>3</th>\n",
       "      <td>47</td>\n",
       "      <td>blue</td>\n",
       "      <td>married</td>\n",
       "      <td>unknown</td>\n",
       "      <td>no</td>\n",
       "      <td>1506</td>\n",
       "      <td>yes</td>\n",
       "      <td>no</td>\n",
       "      <td>unknown</td>\n",
       "      <td>5</td>\n",
       "      <td>may</td>\n",
       "      <td>92</td>\n",
       "      <td>1</td>\n",
       "      <td>-1</td>\n",
       "      <td>0</td>\n",
       "      <td>unknown</td>\n",
       "      <td>0</td>\n",
       "    </tr>\n",
       "    <tr>\n",
       "      <th>4</th>\n",
       "      <td>33</td>\n",
       "      <td>unknown</td>\n",
       "      <td>single</td>\n",
       "      <td>unknown</td>\n",
       "      <td>no</td>\n",
       "      <td>1</td>\n",
       "      <td>no</td>\n",
       "      <td>no</td>\n",
       "      <td>unknown</td>\n",
       "      <td>5</td>\n",
       "      <td>may</td>\n",
       "      <td>198</td>\n",
       "      <td>1</td>\n",
       "      <td>-1</td>\n",
       "      <td>0</td>\n",
       "      <td>unknown</td>\n",
       "      <td>0</td>\n",
       "    </tr>\n",
       "  </tbody>\n",
       "</table>\n",
       "</div>"
      ],
      "text/plain": [
       "   age           job  marital  education default  balance housing loan  \\\n",
       "0   58    management  married   tertiary      no     2143     yes   no   \n",
       "1   44    technician   single  secondary      no       29     yes   no   \n",
       "2   33  entrepreneur  married  secondary      no        2     yes  yes   \n",
       "3   47          blue  married    unknown      no     1506     yes   no   \n",
       "4   33       unknown   single    unknown      no        1      no   no   \n",
       "\n",
       "   contact  day month  duration  campaign  pdays  previous poutcome  y  \n",
       "0  unknown    5   may       261         1     -1         0  unknown  0  \n",
       "1  unknown    5   may       151         1     -1         0  unknown  0  \n",
       "2  unknown    5   may        76         1     -1         0  unknown  0  \n",
       "3  unknown    5   may        92         1     -1         0  unknown  0  \n",
       "4  unknown    5   may       198         1     -1         0  unknown  0  "
      ]
     },
     "execution_count": 3,
     "metadata": {},
     "output_type": "execute_result"
    }
   ],
   "source": [
    "# Tampilkan seluruh data\n",
    "bank_df.head()"
   ]
  },
  {
   "cell_type": "code",
   "execution_count": 4,
   "id": "9012c043",
   "metadata": {},
   "outputs": [
    {
     "data": {
      "text/plain": [
       "(45211, 17)"
      ]
     },
     "execution_count": 4,
     "metadata": {},
     "output_type": "execute_result"
    }
   ],
   "source": [
    "bank_df.shape\n",
    "\n",
    "# Output\n",
    "# (Jumlah observasi, jumlah kolom/fitur)"
   ]
  },
  {
   "cell_type": "code",
   "execution_count": 5,
   "id": "e55d70db",
   "metadata": {},
   "outputs": [
    {
     "data": {
      "text/plain": [
       "0        False\n",
       "1        False\n",
       "2        False\n",
       "3        False\n",
       "4        False\n",
       "         ...  \n",
       "45206    False\n",
       "45207    False\n",
       "45208    False\n",
       "45209    False\n",
       "45210    False\n",
       "Length: 45211, dtype: bool"
      ]
     },
     "execution_count": 5,
     "metadata": {},
     "output_type": "execute_result"
    }
   ],
   "source": [
    "# cek data duplicate\n",
    "duplicate_status = bank_df.duplicated()\n",
    "duplicate_status"
   ]
  },
  {
   "cell_type": "code",
   "execution_count": 6,
   "id": "83cef4e8",
   "metadata": {},
   "outputs": [
    {
     "data": {
      "text/plain": [
       "0"
      ]
     },
     "execution_count": 6,
     "metadata": {},
     "output_type": "execute_result"
    }
   ],
   "source": [
    "# Cari jumlah data duplikatnya\n",
    "duplicate_status.sum()\n",
    "\n",
    "# FALSE = 0 --> kalo tidak duplikat \n",
    "# TRUE = 1 --> kalo duplikat\n",
    "# Kalau ada yang duplikat, maka jumlahnya > 0"
   ]
  },
  {
   "cell_type": "code",
   "execution_count": 7,
   "id": "6e323f44",
   "metadata": {},
   "outputs": [],
   "source": [
    "bank_df = bank_df.drop_duplicates()\n",
    "\n",
    "# Tidak ada yang di-drop karena tidak ada duplikat"
   ]
  },
  {
   "cell_type": "code",
   "execution_count": 8,
   "id": "5b603759",
   "metadata": {},
   "outputs": [
    {
     "data": {
      "text/plain": [
       "(45211, 17)"
      ]
     },
     "execution_count": 8,
     "metadata": {},
     "output_type": "execute_result"
    }
   ],
   "source": [
    "bank_df.shape\n",
    "\n",
    "# Selalu sanity check!\n",
    "# Periksa ulang jumlah observasi"
   ]
  },
  {
   "cell_type": "markdown",
   "id": "a0d5a52b",
   "metadata": {},
   "source": [
    "**Buat semuanya dalam fungsi**\n",
    "\n",
    "1. Import data\n",
    "2. Cek **Jumlah observasi** dan **Jumlah kolom**\n",
    "3. Drop duplicate\n",
    "4. Cek **Jumlah observasi** dan **Jumlah kolom** setelah di-drop\n",
    "5. Return data setelah di-drop"
   ]
  },
  {
   "cell_type": "code",
   "execution_count": 9,
   "id": "3c27a9a7",
   "metadata": {},
   "outputs": [
    {
     "name": "stdout",
     "output_type": "stream",
     "text": [
      "Data asli            :  (45211, 17) - (#observasi, #kolom)\n",
      "Data setelah di-drop :  (45211, 17) - (#observasi, #kolom)\n"
     ]
    }
   ],
   "source": [
    "# Kita ingin membuat fungsi yang isi perintahnya sebagai berikut\n",
    "bank_df = pd.read_csv(\"bank-data.csv\")\n",
    "print(\"Data asli            : \", bank_df.shape, \"- (#observasi, #kolom)\")\n",
    "\n",
    "bank_df = bank_df.drop_duplicates()\n",
    "print(\"Data setelah di-drop : \", bank_df.shape, \"- (#observasi, #kolom)\")"
   ]
  },
  {
   "cell_type": "code",
   "execution_count": 10,
   "id": "98e1edfe",
   "metadata": {},
   "outputs": [],
   "source": [
    "def importData(filename):\n",
    "    \"\"\"\n",
    "    Fungsi untuk import data & hapus duplikat\n",
    "    :param filename: <string> nama file input (format .csv)\n",
    "    :return df: <pandas dataframe> sampel data\n",
    "    \"\"\"\n",
    "\n",
    "    # read data\n",
    "    df = pd.read_csv(filename)\n",
    "    print(\"Data asli            : \", df.shape, \"- (#observasi, #kolom)\")\n",
    "\n",
    "    # drop duplicates\n",
    "    df = df.drop_duplicates()\n",
    "    print(\"Data setelah di-drop : \", df.shape, \"- (#observasi, #kolom)\")\n",
    "\n",
    "    return df\n",
    "\n",
    "# (filename) adalah argumen\n",
    "# Argumen adalah sebuah variable. \n",
    "# Jika fungsi tsb. diberi argumen filename = \"bank_data.csv\", \n",
    "# maka semua variabel 'filename' di dalam fungsi \n",
    "# akan berubah menjadi \"bank_data.csv\""
   ]
  },
  {
   "cell_type": "code",
   "execution_count": 11,
   "id": "428c0321",
   "metadata": {},
   "outputs": [
    {
     "name": "stdout",
     "output_type": "stream",
     "text": [
      "Data asli            :  (45211, 17) - (#observasi, #kolom)\n",
      "Data setelah di-drop :  (45211, 17) - (#observasi, #kolom)\n"
     ]
    }
   ],
   "source": [
    "# input\n",
    "file_bank = \"bank-data.csv\"\n",
    "\n",
    "# panggil fungsi\n",
    "bank_df = importData(filename = file_bank)"
   ]
  },
  {
   "cell_type": "code",
   "execution_count": 12,
   "id": "aff1aa7b",
   "metadata": {},
   "outputs": [
    {
     "data": {
      "text/html": [
       "<div>\n",
       "<style scoped>\n",
       "    .dataframe tbody tr th:only-of-type {\n",
       "        vertical-align: middle;\n",
       "    }\n",
       "\n",
       "    .dataframe tbody tr th {\n",
       "        vertical-align: top;\n",
       "    }\n",
       "\n",
       "    .dataframe thead th {\n",
       "        text-align: right;\n",
       "    }\n",
       "</style>\n",
       "<table border=\"1\" class=\"dataframe\">\n",
       "  <thead>\n",
       "    <tr style=\"text-align: right;\">\n",
       "      <th></th>\n",
       "      <th>age</th>\n",
       "      <th>job</th>\n",
       "      <th>marital</th>\n",
       "      <th>education</th>\n",
       "      <th>default</th>\n",
       "      <th>balance</th>\n",
       "      <th>housing</th>\n",
       "      <th>loan</th>\n",
       "      <th>contact</th>\n",
       "      <th>day</th>\n",
       "      <th>month</th>\n",
       "      <th>duration</th>\n",
       "      <th>campaign</th>\n",
       "      <th>pdays</th>\n",
       "      <th>previous</th>\n",
       "      <th>poutcome</th>\n",
       "      <th>y</th>\n",
       "    </tr>\n",
       "  </thead>\n",
       "  <tbody>\n",
       "    <tr>\n",
       "      <th>0</th>\n",
       "      <td>58</td>\n",
       "      <td>management</td>\n",
       "      <td>married</td>\n",
       "      <td>tertiary</td>\n",
       "      <td>no</td>\n",
       "      <td>2143</td>\n",
       "      <td>yes</td>\n",
       "      <td>no</td>\n",
       "      <td>unknown</td>\n",
       "      <td>5</td>\n",
       "      <td>may</td>\n",
       "      <td>261</td>\n",
       "      <td>1</td>\n",
       "      <td>-1</td>\n",
       "      <td>0</td>\n",
       "      <td>unknown</td>\n",
       "      <td>0</td>\n",
       "    </tr>\n",
       "    <tr>\n",
       "      <th>1</th>\n",
       "      <td>44</td>\n",
       "      <td>technician</td>\n",
       "      <td>single</td>\n",
       "      <td>secondary</td>\n",
       "      <td>no</td>\n",
       "      <td>29</td>\n",
       "      <td>yes</td>\n",
       "      <td>no</td>\n",
       "      <td>unknown</td>\n",
       "      <td>5</td>\n",
       "      <td>may</td>\n",
       "      <td>151</td>\n",
       "      <td>1</td>\n",
       "      <td>-1</td>\n",
       "      <td>0</td>\n",
       "      <td>unknown</td>\n",
       "      <td>0</td>\n",
       "    </tr>\n",
       "    <tr>\n",
       "      <th>2</th>\n",
       "      <td>33</td>\n",
       "      <td>entrepreneur</td>\n",
       "      <td>married</td>\n",
       "      <td>secondary</td>\n",
       "      <td>no</td>\n",
       "      <td>2</td>\n",
       "      <td>yes</td>\n",
       "      <td>yes</td>\n",
       "      <td>unknown</td>\n",
       "      <td>5</td>\n",
       "      <td>may</td>\n",
       "      <td>76</td>\n",
       "      <td>1</td>\n",
       "      <td>-1</td>\n",
       "      <td>0</td>\n",
       "      <td>unknown</td>\n",
       "      <td>0</td>\n",
       "    </tr>\n",
       "    <tr>\n",
       "      <th>3</th>\n",
       "      <td>47</td>\n",
       "      <td>blue</td>\n",
       "      <td>married</td>\n",
       "      <td>unknown</td>\n",
       "      <td>no</td>\n",
       "      <td>1506</td>\n",
       "      <td>yes</td>\n",
       "      <td>no</td>\n",
       "      <td>unknown</td>\n",
       "      <td>5</td>\n",
       "      <td>may</td>\n",
       "      <td>92</td>\n",
       "      <td>1</td>\n",
       "      <td>-1</td>\n",
       "      <td>0</td>\n",
       "      <td>unknown</td>\n",
       "      <td>0</td>\n",
       "    </tr>\n",
       "    <tr>\n",
       "      <th>4</th>\n",
       "      <td>33</td>\n",
       "      <td>unknown</td>\n",
       "      <td>single</td>\n",
       "      <td>unknown</td>\n",
       "      <td>no</td>\n",
       "      <td>1</td>\n",
       "      <td>no</td>\n",
       "      <td>no</td>\n",
       "      <td>unknown</td>\n",
       "      <td>5</td>\n",
       "      <td>may</td>\n",
       "      <td>198</td>\n",
       "      <td>1</td>\n",
       "      <td>-1</td>\n",
       "      <td>0</td>\n",
       "      <td>unknown</td>\n",
       "      <td>0</td>\n",
       "    </tr>\n",
       "  </tbody>\n",
       "</table>\n",
       "</div>"
      ],
      "text/plain": [
       "   age           job  marital  education default  balance housing loan  \\\n",
       "0   58    management  married   tertiary      no     2143     yes   no   \n",
       "1   44    technician   single  secondary      no       29     yes   no   \n",
       "2   33  entrepreneur  married  secondary      no        2     yes  yes   \n",
       "3   47          blue  married    unknown      no     1506     yes   no   \n",
       "4   33       unknown   single    unknown      no        1      no   no   \n",
       "\n",
       "   contact  day month  duration  campaign  pdays  previous poutcome  y  \n",
       "0  unknown    5   may       261         1     -1         0  unknown  0  \n",
       "1  unknown    5   may       151         1     -1         0  unknown  0  \n",
       "2  unknown    5   may        76         1     -1         0  unknown  0  \n",
       "3  unknown    5   may        92         1     -1         0  unknown  0  \n",
       "4  unknown    5   may       198         1     -1         0  unknown  0  "
      ]
     },
     "execution_count": 12,
     "metadata": {},
     "output_type": "execute_result"
    }
   ],
   "source": [
    "bank_df.head()"
   ]
  },
  {
   "cell_type": "markdown",
   "id": "08f7eff6",
   "metadata": {},
   "source": [
    "## <b><font color='blue'> 2. Data Preprocessing:</font></b>\n",
    "---\n",
    "    * Input-Output Split, Train-Test Split\n",
    "    * Processing Categorical\n",
    "    * Imputation, Normalization, Drop Duplicates"
   ]
  },
  {
   "cell_type": "markdown",
   "id": "d18c152c",
   "metadata": {},
   "source": [
    "### **Input-Output Split**\n",
    "\n",
    "- Fitur `y` adalah output variabel dari data marketing\n",
    "- yang lainnya menjadi input"
   ]
  },
  {
   "cell_type": "markdown",
   "id": "6e69240c",
   "metadata": {},
   "source": [
    "**Buat data output**"
   ]
  },
  {
   "cell_type": "code",
   "execution_count": 13,
   "id": "c7542c7d",
   "metadata": {},
   "outputs": [
    {
     "data": {
      "text/html": [
       "<div>\n",
       "<style scoped>\n",
       "    .dataframe tbody tr th:only-of-type {\n",
       "        vertical-align: middle;\n",
       "    }\n",
       "\n",
       "    .dataframe tbody tr th {\n",
       "        vertical-align: top;\n",
       "    }\n",
       "\n",
       "    .dataframe thead th {\n",
       "        text-align: right;\n",
       "    }\n",
       "</style>\n",
       "<table border=\"1\" class=\"dataframe\">\n",
       "  <thead>\n",
       "    <tr style=\"text-align: right;\">\n",
       "      <th></th>\n",
       "      <th>age</th>\n",
       "      <th>job</th>\n",
       "      <th>marital</th>\n",
       "      <th>education</th>\n",
       "      <th>default</th>\n",
       "      <th>balance</th>\n",
       "      <th>housing</th>\n",
       "      <th>loan</th>\n",
       "      <th>contact</th>\n",
       "      <th>day</th>\n",
       "      <th>month</th>\n",
       "      <th>duration</th>\n",
       "      <th>campaign</th>\n",
       "      <th>pdays</th>\n",
       "      <th>previous</th>\n",
       "      <th>poutcome</th>\n",
       "      <th>y</th>\n",
       "    </tr>\n",
       "  </thead>\n",
       "  <tbody>\n",
       "    <tr>\n",
       "      <th>0</th>\n",
       "      <td>58</td>\n",
       "      <td>management</td>\n",
       "      <td>married</td>\n",
       "      <td>tertiary</td>\n",
       "      <td>no</td>\n",
       "      <td>2143</td>\n",
       "      <td>yes</td>\n",
       "      <td>no</td>\n",
       "      <td>unknown</td>\n",
       "      <td>5</td>\n",
       "      <td>may</td>\n",
       "      <td>261</td>\n",
       "      <td>1</td>\n",
       "      <td>-1</td>\n",
       "      <td>0</td>\n",
       "      <td>unknown</td>\n",
       "      <td>0</td>\n",
       "    </tr>\n",
       "    <tr>\n",
       "      <th>1</th>\n",
       "      <td>44</td>\n",
       "      <td>technician</td>\n",
       "      <td>single</td>\n",
       "      <td>secondary</td>\n",
       "      <td>no</td>\n",
       "      <td>29</td>\n",
       "      <td>yes</td>\n",
       "      <td>no</td>\n",
       "      <td>unknown</td>\n",
       "      <td>5</td>\n",
       "      <td>may</td>\n",
       "      <td>151</td>\n",
       "      <td>1</td>\n",
       "      <td>-1</td>\n",
       "      <td>0</td>\n",
       "      <td>unknown</td>\n",
       "      <td>0</td>\n",
       "    </tr>\n",
       "    <tr>\n",
       "      <th>2</th>\n",
       "      <td>33</td>\n",
       "      <td>entrepreneur</td>\n",
       "      <td>married</td>\n",
       "      <td>secondary</td>\n",
       "      <td>no</td>\n",
       "      <td>2</td>\n",
       "      <td>yes</td>\n",
       "      <td>yes</td>\n",
       "      <td>unknown</td>\n",
       "      <td>5</td>\n",
       "      <td>may</td>\n",
       "      <td>76</td>\n",
       "      <td>1</td>\n",
       "      <td>-1</td>\n",
       "      <td>0</td>\n",
       "      <td>unknown</td>\n",
       "      <td>0</td>\n",
       "    </tr>\n",
       "    <tr>\n",
       "      <th>3</th>\n",
       "      <td>47</td>\n",
       "      <td>blue</td>\n",
       "      <td>married</td>\n",
       "      <td>unknown</td>\n",
       "      <td>no</td>\n",
       "      <td>1506</td>\n",
       "      <td>yes</td>\n",
       "      <td>no</td>\n",
       "      <td>unknown</td>\n",
       "      <td>5</td>\n",
       "      <td>may</td>\n",
       "      <td>92</td>\n",
       "      <td>1</td>\n",
       "      <td>-1</td>\n",
       "      <td>0</td>\n",
       "      <td>unknown</td>\n",
       "      <td>0</td>\n",
       "    </tr>\n",
       "    <tr>\n",
       "      <th>4</th>\n",
       "      <td>33</td>\n",
       "      <td>unknown</td>\n",
       "      <td>single</td>\n",
       "      <td>unknown</td>\n",
       "      <td>no</td>\n",
       "      <td>1</td>\n",
       "      <td>no</td>\n",
       "      <td>no</td>\n",
       "      <td>unknown</td>\n",
       "      <td>5</td>\n",
       "      <td>may</td>\n",
       "      <td>198</td>\n",
       "      <td>1</td>\n",
       "      <td>-1</td>\n",
       "      <td>0</td>\n",
       "      <td>unknown</td>\n",
       "      <td>0</td>\n",
       "    </tr>\n",
       "  </tbody>\n",
       "</table>\n",
       "</div>"
      ],
      "text/plain": [
       "   age           job  marital  education default  balance housing loan  \\\n",
       "0   58    management  married   tertiary      no     2143     yes   no   \n",
       "1   44    technician   single  secondary      no       29     yes   no   \n",
       "2   33  entrepreneur  married  secondary      no        2     yes  yes   \n",
       "3   47          blue  married    unknown      no     1506     yes   no   \n",
       "4   33       unknown   single    unknown      no        1      no   no   \n",
       "\n",
       "   contact  day month  duration  campaign  pdays  previous poutcome  y  \n",
       "0  unknown    5   may       261         1     -1         0  unknown  0  \n",
       "1  unknown    5   may       151         1     -1         0  unknown  0  \n",
       "2  unknown    5   may        76         1     -1         0  unknown  0  \n",
       "3  unknown    5   may        92         1     -1         0  unknown  0  \n",
       "4  unknown    5   may       198         1     -1         0  unknown  0  "
      ]
     },
     "execution_count": 13,
     "metadata": {},
     "output_type": "execute_result"
    }
   ],
   "source": [
    "bank_df.head()"
   ]
  },
  {
   "cell_type": "code",
   "execution_count": 14,
   "id": "59a5e73f",
   "metadata": {},
   "outputs": [],
   "source": [
    "output_data = bank_df[\"y\"]\n",
    "\n",
    "# buat data yang berisi data target\n",
    "# pilih data dengan nama kolom `y`, lalu namakan sebagai output_data"
   ]
  },
  {
   "cell_type": "code",
   "execution_count": 15,
   "id": "d64c83b8",
   "metadata": {},
   "outputs": [
    {
     "data": {
      "text/plain": [
       "0    0\n",
       "1    0\n",
       "2    0\n",
       "3    0\n",
       "4    0\n",
       "Name: y, dtype: int64"
      ]
     },
     "execution_count": 15,
     "metadata": {},
     "output_type": "execute_result"
    }
   ],
   "source": [
    "output_data.head()"
   ]
  },
  {
   "cell_type": "markdown",
   "id": "67f1b379",
   "metadata": {},
   "source": [
    "**Buat data input**\n",
    "\n",
    "- DATA = INPUT + OUTPUT\n",
    "- DATA - OUTPUT = INPUT\n",
    "- Jadi kalau dari data, kita drop VARIABLE OUTPUT, maka tersisa hanya variabel INPUT."
   ]
  },
  {
   "cell_type": "code",
   "execution_count": 16,
   "id": "d72c8677",
   "metadata": {},
   "outputs": [],
   "source": [
    "input_data = bank_df.drop([\"y\"], \n",
    "                          axis = 1)"
   ]
  },
  {
   "cell_type": "code",
   "execution_count": 17,
   "id": "48c5a74f",
   "metadata": {},
   "outputs": [
    {
     "data": {
      "text/html": [
       "<div>\n",
       "<style scoped>\n",
       "    .dataframe tbody tr th:only-of-type {\n",
       "        vertical-align: middle;\n",
       "    }\n",
       "\n",
       "    .dataframe tbody tr th {\n",
       "        vertical-align: top;\n",
       "    }\n",
       "\n",
       "    .dataframe thead th {\n",
       "        text-align: right;\n",
       "    }\n",
       "</style>\n",
       "<table border=\"1\" class=\"dataframe\">\n",
       "  <thead>\n",
       "    <tr style=\"text-align: right;\">\n",
       "      <th></th>\n",
       "      <th>age</th>\n",
       "      <th>job</th>\n",
       "      <th>marital</th>\n",
       "      <th>education</th>\n",
       "      <th>default</th>\n",
       "      <th>balance</th>\n",
       "      <th>housing</th>\n",
       "      <th>loan</th>\n",
       "      <th>contact</th>\n",
       "      <th>day</th>\n",
       "      <th>month</th>\n",
       "      <th>duration</th>\n",
       "      <th>campaign</th>\n",
       "      <th>pdays</th>\n",
       "      <th>previous</th>\n",
       "      <th>poutcome</th>\n",
       "    </tr>\n",
       "  </thead>\n",
       "  <tbody>\n",
       "    <tr>\n",
       "      <th>0</th>\n",
       "      <td>58</td>\n",
       "      <td>management</td>\n",
       "      <td>married</td>\n",
       "      <td>tertiary</td>\n",
       "      <td>no</td>\n",
       "      <td>2143</td>\n",
       "      <td>yes</td>\n",
       "      <td>no</td>\n",
       "      <td>unknown</td>\n",
       "      <td>5</td>\n",
       "      <td>may</td>\n",
       "      <td>261</td>\n",
       "      <td>1</td>\n",
       "      <td>-1</td>\n",
       "      <td>0</td>\n",
       "      <td>unknown</td>\n",
       "    </tr>\n",
       "    <tr>\n",
       "      <th>1</th>\n",
       "      <td>44</td>\n",
       "      <td>technician</td>\n",
       "      <td>single</td>\n",
       "      <td>secondary</td>\n",
       "      <td>no</td>\n",
       "      <td>29</td>\n",
       "      <td>yes</td>\n",
       "      <td>no</td>\n",
       "      <td>unknown</td>\n",
       "      <td>5</td>\n",
       "      <td>may</td>\n",
       "      <td>151</td>\n",
       "      <td>1</td>\n",
       "      <td>-1</td>\n",
       "      <td>0</td>\n",
       "      <td>unknown</td>\n",
       "    </tr>\n",
       "    <tr>\n",
       "      <th>2</th>\n",
       "      <td>33</td>\n",
       "      <td>entrepreneur</td>\n",
       "      <td>married</td>\n",
       "      <td>secondary</td>\n",
       "      <td>no</td>\n",
       "      <td>2</td>\n",
       "      <td>yes</td>\n",
       "      <td>yes</td>\n",
       "      <td>unknown</td>\n",
       "      <td>5</td>\n",
       "      <td>may</td>\n",
       "      <td>76</td>\n",
       "      <td>1</td>\n",
       "      <td>-1</td>\n",
       "      <td>0</td>\n",
       "      <td>unknown</td>\n",
       "    </tr>\n",
       "    <tr>\n",
       "      <th>3</th>\n",
       "      <td>47</td>\n",
       "      <td>blue</td>\n",
       "      <td>married</td>\n",
       "      <td>unknown</td>\n",
       "      <td>no</td>\n",
       "      <td>1506</td>\n",
       "      <td>yes</td>\n",
       "      <td>no</td>\n",
       "      <td>unknown</td>\n",
       "      <td>5</td>\n",
       "      <td>may</td>\n",
       "      <td>92</td>\n",
       "      <td>1</td>\n",
       "      <td>-1</td>\n",
       "      <td>0</td>\n",
       "      <td>unknown</td>\n",
       "    </tr>\n",
       "    <tr>\n",
       "      <th>4</th>\n",
       "      <td>33</td>\n",
       "      <td>unknown</td>\n",
       "      <td>single</td>\n",
       "      <td>unknown</td>\n",
       "      <td>no</td>\n",
       "      <td>1</td>\n",
       "      <td>no</td>\n",
       "      <td>no</td>\n",
       "      <td>unknown</td>\n",
       "      <td>5</td>\n",
       "      <td>may</td>\n",
       "      <td>198</td>\n",
       "      <td>1</td>\n",
       "      <td>-1</td>\n",
       "      <td>0</td>\n",
       "      <td>unknown</td>\n",
       "    </tr>\n",
       "  </tbody>\n",
       "</table>\n",
       "</div>"
      ],
      "text/plain": [
       "   age           job  marital  education default  balance housing loan  \\\n",
       "0   58    management  married   tertiary      no     2143     yes   no   \n",
       "1   44    technician   single  secondary      no       29     yes   no   \n",
       "2   33  entrepreneur  married  secondary      no        2     yes  yes   \n",
       "3   47          blue  married    unknown      no     1506     yes   no   \n",
       "4   33       unknown   single    unknown      no        1      no   no   \n",
       "\n",
       "   contact  day month  duration  campaign  pdays  previous poutcome  \n",
       "0  unknown    5   may       261         1     -1         0  unknown  \n",
       "1  unknown    5   may       151         1     -1         0  unknown  \n",
       "2  unknown    5   may        76         1     -1         0  unknown  \n",
       "3  unknown    5   may        92         1     -1         0  unknown  \n",
       "4  unknown    5   may       198         1     -1         0  unknown  "
      ]
     },
     "execution_count": 17,
     "metadata": {},
     "output_type": "execute_result"
    }
   ],
   "source": [
    "input_data.head()"
   ]
  },
  {
   "cell_type": "markdown",
   "id": "a83d664f",
   "metadata": {},
   "source": [
    "**Buat semuanya jadi fungsi**\n",
    "1. buat output_data\n",
    "2. buat input_data\n",
    "3. return input_data dan output_data"
   ]
  },
  {
   "cell_type": "code",
   "execution_count": 18,
   "id": "c8fdd813",
   "metadata": {},
   "outputs": [],
   "source": [
    "# isi perintah yang akan dimasukkan ke dalam fungsi\n",
    "output_data = bank_df[\"y\"]\n",
    "input_data = bank_df.drop(\"y\",\n",
    "                          axis = 1)"
   ]
  },
  {
   "cell_type": "code",
   "execution_count": 19,
   "id": "eff38258",
   "metadata": {},
   "outputs": [],
   "source": [
    "def extractInputOutput(data,\n",
    "                       output_column_name):\n",
    "    \"\"\"\n",
    "    Fungsi untuk memisahkan data input dan output\n",
    "    :param data: <pandas dataframe> data seluruh sample\n",
    "    :param output_column_name: <string> nama kolom output\n",
    "    :return input_data: <pandas dataframe> data input\n",
    "    :return output_data: <pandas series> data output\n",
    "    \"\"\"\n",
    "    output_data = data[output_column_name]\n",
    "    input_data = data.drop(output_column_name,\n",
    "                           axis = 1)\n",
    "    \n",
    "    return input_data, output_data\n",
    "\n",
    "# (data, output_column_name) adalah argumen\n",
    "# Argumen adalah sebuah variable. \n",
    "# Jika fungsi tsb. diberi argumen data = bank_df, \n",
    "# maka semua variabel 'data' di dalam fungsi akan berubah menjadi bank_df"
   ]
  },
  {
   "cell_type": "code",
   "execution_count": 20,
   "id": "2b0f2f84",
   "metadata": {},
   "outputs": [],
   "source": [
    "# Jangan sampai salah urutan dalam penempatan return\n",
    "X, y = extractInputOutput(data = bank_df,\n",
    "                          output_column_name = \"y\")"
   ]
  },
  {
   "cell_type": "code",
   "execution_count": 21,
   "id": "5a83edfd",
   "metadata": {},
   "outputs": [
    {
     "data": {
      "text/html": [
       "<div>\n",
       "<style scoped>\n",
       "    .dataframe tbody tr th:only-of-type {\n",
       "        vertical-align: middle;\n",
       "    }\n",
       "\n",
       "    .dataframe tbody tr th {\n",
       "        vertical-align: top;\n",
       "    }\n",
       "\n",
       "    .dataframe thead th {\n",
       "        text-align: right;\n",
       "    }\n",
       "</style>\n",
       "<table border=\"1\" class=\"dataframe\">\n",
       "  <thead>\n",
       "    <tr style=\"text-align: right;\">\n",
       "      <th></th>\n",
       "      <th>age</th>\n",
       "      <th>job</th>\n",
       "      <th>marital</th>\n",
       "      <th>education</th>\n",
       "      <th>default</th>\n",
       "      <th>balance</th>\n",
       "      <th>housing</th>\n",
       "      <th>loan</th>\n",
       "      <th>contact</th>\n",
       "      <th>day</th>\n",
       "      <th>month</th>\n",
       "      <th>duration</th>\n",
       "      <th>campaign</th>\n",
       "      <th>pdays</th>\n",
       "      <th>previous</th>\n",
       "      <th>poutcome</th>\n",
       "    </tr>\n",
       "  </thead>\n",
       "  <tbody>\n",
       "    <tr>\n",
       "      <th>0</th>\n",
       "      <td>58</td>\n",
       "      <td>management</td>\n",
       "      <td>married</td>\n",
       "      <td>tertiary</td>\n",
       "      <td>no</td>\n",
       "      <td>2143</td>\n",
       "      <td>yes</td>\n",
       "      <td>no</td>\n",
       "      <td>unknown</td>\n",
       "      <td>5</td>\n",
       "      <td>may</td>\n",
       "      <td>261</td>\n",
       "      <td>1</td>\n",
       "      <td>-1</td>\n",
       "      <td>0</td>\n",
       "      <td>unknown</td>\n",
       "    </tr>\n",
       "    <tr>\n",
       "      <th>1</th>\n",
       "      <td>44</td>\n",
       "      <td>technician</td>\n",
       "      <td>single</td>\n",
       "      <td>secondary</td>\n",
       "      <td>no</td>\n",
       "      <td>29</td>\n",
       "      <td>yes</td>\n",
       "      <td>no</td>\n",
       "      <td>unknown</td>\n",
       "      <td>5</td>\n",
       "      <td>may</td>\n",
       "      <td>151</td>\n",
       "      <td>1</td>\n",
       "      <td>-1</td>\n",
       "      <td>0</td>\n",
       "      <td>unknown</td>\n",
       "    </tr>\n",
       "  </tbody>\n",
       "</table>\n",
       "</div>"
      ],
      "text/plain": [
       "   age         job  marital  education default  balance housing loan  contact  \\\n",
       "0   58  management  married   tertiary      no     2143     yes   no  unknown   \n",
       "1   44  technician   single  secondary      no       29     yes   no  unknown   \n",
       "\n",
       "   day month  duration  campaign  pdays  previous poutcome  \n",
       "0    5   may       261         1     -1         0  unknown  \n",
       "1    5   may       151         1     -1         0  unknown  "
      ]
     },
     "execution_count": 21,
     "metadata": {},
     "output_type": "execute_result"
    }
   ],
   "source": [
    "X.head(2)"
   ]
  },
  {
   "cell_type": "code",
   "execution_count": 22,
   "id": "14c4cd7a",
   "metadata": {},
   "outputs": [
    {
     "data": {
      "text/plain": [
       "0    0\n",
       "1    0\n",
       "Name: y, dtype: int64"
      ]
     },
     "execution_count": 22,
     "metadata": {},
     "output_type": "execute_result"
    }
   ],
   "source": [
    "y.head(2)"
   ]
  },
  {
   "cell_type": "markdown",
   "id": "76bb0a08",
   "metadata": {},
   "source": [
    "### **Train-Test Split**\n",
    "\n",
    "- **Kenapa?**\n",
    "  - Karena tidak mau overfit data training\n",
    "  - Test data akan menjadi future data\n",
    "  - Kita akan latih model ML di data training, dengan CV (Cross-validation)\n",
    "  - Selanjutnya melakukan evaluasi di data testing"
   ]
  },
  {
   "cell_type": "code",
   "execution_count": 23,
   "id": "08258bcc",
   "metadata": {},
   "outputs": [],
   "source": [
    "# Import train-test splitting library dari sklearn (scikit learn)\n",
    "from sklearn.model_selection import train_test_split"
   ]
  },
  {
   "cell_type": "markdown",
   "id": "35c47428",
   "metadata": {},
   "source": [
    "**Train Test Split Function**\n",
    "1. `X` adalah input\n",
    "2. `y` adalah output (target)\n",
    "3. `test_size` adalah seberapa besar proporsi data test dari keseluruhan data. Contoh `test_size = 0.2` artinya data test akan berisi 20% data.\n",
    "4. `random_state` adalah kunci untuk random. Harus di-setting sama. Misal `random_state = 123`.\n",
    "5. Output:\n",
    "   - `X_train` = input dari data training\n",
    "   - `X_test` = input dari data testing\n",
    "   - `y_train` = output dari data training\n",
    "   - `y_test` = output dari data testing\n",
    "6. Urutan outputnya: `X_train, X_test, y_train, y_test`. Tidak boleh terbalik\n",
    "\n",
    "> Readmore: https://scikit-learn.org/stable/modules/generated/sklearn.model_selection.train_test_split.html"
   ]
  },
  {
   "cell_type": "code",
   "execution_count": 24,
   "id": "b3698803",
   "metadata": {},
   "outputs": [],
   "source": [
    "# Train test split\n",
    "X_train, X_test, y_train, y_test = train_test_split(X, y,\n",
    "                                                    test_size = 0.25,\n",
    "                                                    random_state = 12)"
   ]
  },
  {
   "cell_type": "code",
   "execution_count": 25,
   "id": "c62a1f9d",
   "metadata": {},
   "outputs": [
    {
     "name": "stdout",
     "output_type": "stream",
     "text": [
      "(33908, 16)\n",
      "(11303, 16)\n"
     ]
    }
   ],
   "source": [
    "# Sanity check hasil splitting\n",
    "print(X_train.shape)\n",
    "print(X_test.shape)"
   ]
  },
  {
   "cell_type": "code",
   "execution_count": 26,
   "id": "1fa785de",
   "metadata": {},
   "outputs": [
    {
     "data": {
      "text/plain": [
       "0.25000552962774547"
      ]
     },
     "execution_count": 26,
     "metadata": {},
     "output_type": "execute_result"
    }
   ],
   "source": [
    "# Ratio\n",
    "X_test.shape[0] / X.shape[0]\n",
    "\n",
    "# Hasil 0.25 - sesuai dengan test_size kita"
   ]
  },
  {
   "cell_type": "markdown",
   "id": "74dcd71f",
   "metadata": {},
   "source": [
    "**Selamat!** - Anda sudah memiliki data train & test\n",
    "\n",
    "> Selanjutnya, hanya **fokus** ke data **training**"
   ]
  },
  {
   "cell_type": "markdown",
   "id": "11c03427",
   "metadata": {},
   "source": [
    "### **Data Imputation**\n",
    "\n",
    "- Proses pengisian data yang kosong (NaN)\n",
    "- Ada 2 hal yang diperhatikan:\n",
    "  - Numerical Imputation\n",
    "  - Categorical Imputation"
   ]
  },
  {
   "cell_type": "markdown",
   "id": "d270aad5",
   "metadata": {},
   "source": [
    "**Cek data yang kosong dari variabel input**"
   ]
  },
  {
   "cell_type": "code",
   "execution_count": 27,
   "id": "0026f858",
   "metadata": {},
   "outputs": [
    {
     "data": {
      "text/plain": [
       "age          0\n",
       "job          0\n",
       "marital      0\n",
       "education    0\n",
       "default      0\n",
       "balance      0\n",
       "housing      0\n",
       "loan         0\n",
       "contact      0\n",
       "day          0\n",
       "month        0\n",
       "duration     0\n",
       "campaign     0\n",
       "pdays        0\n",
       "previous     0\n",
       "poutcome     0\n",
       "dtype: int64"
      ]
     },
     "execution_count": 27,
     "metadata": {},
     "output_type": "execute_result"
    }
   ],
   "source": [
    "X_train.isnull().sum()\n",
    "\n",
    "# Output: nama variabel, True/False.\n",
    "# Jika True, maka ada data yang kosong\n",
    "\n",
    "# Ada 2500-2700 data yang kosong"
   ]
  },
  {
   "cell_type": "markdown",
   "id": "c6b618ff",
   "metadata": {},
   "source": [
    "**Bedakan antara data categorical & numerical**"
   ]
  },
  {
   "cell_type": "code",
   "execution_count": 28,
   "id": "ad5ba422",
   "metadata": {},
   "outputs": [
    {
     "data": {
      "text/html": [
       "<div>\n",
       "<style scoped>\n",
       "    .dataframe tbody tr th:only-of-type {\n",
       "        vertical-align: middle;\n",
       "    }\n",
       "\n",
       "    .dataframe tbody tr th {\n",
       "        vertical-align: top;\n",
       "    }\n",
       "\n",
       "    .dataframe thead th {\n",
       "        text-align: right;\n",
       "    }\n",
       "</style>\n",
       "<table border=\"1\" class=\"dataframe\">\n",
       "  <thead>\n",
       "    <tr style=\"text-align: right;\">\n",
       "      <th></th>\n",
       "      <th>age</th>\n",
       "      <th>job</th>\n",
       "      <th>marital</th>\n",
       "      <th>education</th>\n",
       "      <th>default</th>\n",
       "      <th>balance</th>\n",
       "      <th>housing</th>\n",
       "      <th>loan</th>\n",
       "      <th>contact</th>\n",
       "      <th>day</th>\n",
       "      <th>month</th>\n",
       "      <th>duration</th>\n",
       "      <th>campaign</th>\n",
       "      <th>pdays</th>\n",
       "      <th>previous</th>\n",
       "      <th>poutcome</th>\n",
       "    </tr>\n",
       "  </thead>\n",
       "  <tbody>\n",
       "    <tr>\n",
       "      <th>37156</th>\n",
       "      <td>35</td>\n",
       "      <td>management</td>\n",
       "      <td>single</td>\n",
       "      <td>tertiary</td>\n",
       "      <td>no</td>\n",
       "      <td>2749</td>\n",
       "      <td>no</td>\n",
       "      <td>no</td>\n",
       "      <td>cellular</td>\n",
       "      <td>13</td>\n",
       "      <td>may</td>\n",
       "      <td>127</td>\n",
       "      <td>1</td>\n",
       "      <td>-1</td>\n",
       "      <td>0</td>\n",
       "      <td>unknown</td>\n",
       "    </tr>\n",
       "    <tr>\n",
       "      <th>20494</th>\n",
       "      <td>30</td>\n",
       "      <td>management</td>\n",
       "      <td>single</td>\n",
       "      <td>tertiary</td>\n",
       "      <td>no</td>\n",
       "      <td>443</td>\n",
       "      <td>yes</td>\n",
       "      <td>yes</td>\n",
       "      <td>cellular</td>\n",
       "      <td>12</td>\n",
       "      <td>aug</td>\n",
       "      <td>80</td>\n",
       "      <td>2</td>\n",
       "      <td>-1</td>\n",
       "      <td>0</td>\n",
       "      <td>unknown</td>\n",
       "    </tr>\n",
       "    <tr>\n",
       "      <th>35272</th>\n",
       "      <td>39</td>\n",
       "      <td>management</td>\n",
       "      <td>single</td>\n",
       "      <td>tertiary</td>\n",
       "      <td>no</td>\n",
       "      <td>4239</td>\n",
       "      <td>yes</td>\n",
       "      <td>no</td>\n",
       "      <td>cellular</td>\n",
       "      <td>7</td>\n",
       "      <td>may</td>\n",
       "      <td>40</td>\n",
       "      <td>1</td>\n",
       "      <td>-1</td>\n",
       "      <td>0</td>\n",
       "      <td>unknown</td>\n",
       "    </tr>\n",
       "    <tr>\n",
       "      <th>22260</th>\n",
       "      <td>49</td>\n",
       "      <td>services</td>\n",
       "      <td>married</td>\n",
       "      <td>secondary</td>\n",
       "      <td>no</td>\n",
       "      <td>400</td>\n",
       "      <td>no</td>\n",
       "      <td>no</td>\n",
       "      <td>cellular</td>\n",
       "      <td>21</td>\n",
       "      <td>aug</td>\n",
       "      <td>151</td>\n",
       "      <td>3</td>\n",
       "      <td>-1</td>\n",
       "      <td>0</td>\n",
       "      <td>unknown</td>\n",
       "    </tr>\n",
       "    <tr>\n",
       "      <th>2728</th>\n",
       "      <td>28</td>\n",
       "      <td>technician</td>\n",
       "      <td>single</td>\n",
       "      <td>secondary</td>\n",
       "      <td>no</td>\n",
       "      <td>468</td>\n",
       "      <td>yes</td>\n",
       "      <td>no</td>\n",
       "      <td>unknown</td>\n",
       "      <td>13</td>\n",
       "      <td>may</td>\n",
       "      <td>152</td>\n",
       "      <td>3</td>\n",
       "      <td>-1</td>\n",
       "      <td>0</td>\n",
       "      <td>unknown</td>\n",
       "    </tr>\n",
       "  </tbody>\n",
       "</table>\n",
       "</div>"
      ],
      "text/plain": [
       "       age         job  marital  education default  balance housing loan  \\\n",
       "37156   35  management   single   tertiary      no     2749      no   no   \n",
       "20494   30  management   single   tertiary      no      443     yes  yes   \n",
       "35272   39  management   single   tertiary      no     4239     yes   no   \n",
       "22260   49    services  married  secondary      no      400      no   no   \n",
       "2728    28  technician   single  secondary      no      468     yes   no   \n",
       "\n",
       "        contact  day month  duration  campaign  pdays  previous poutcome  \n",
       "37156  cellular   13   may       127         1     -1         0  unknown  \n",
       "20494  cellular   12   aug        80         2     -1         0  unknown  \n",
       "35272  cellular    7   may        40         1     -1         0  unknown  \n",
       "22260  cellular   21   aug       151         3     -1         0  unknown  \n",
       "2728    unknown   13   may       152         3     -1         0  unknown  "
      ]
     },
     "execution_count": 28,
     "metadata": {},
     "output_type": "execute_result"
    }
   ],
   "source": [
    "X_train.head()"
   ]
  },
  {
   "cell_type": "markdown",
   "id": "3914da0e",
   "metadata": {},
   "source": [
    "Data kategorikal:\n",
    "- job\n",
    "- marital\n",
    "- education\n",
    "- default\n",
    "- housing\n",
    "- loan\n",
    "- contact\n",
    "- month\n",
    "- poutcome\n",
    "\n",
    "Sisanya adalah numerical"
   ]
  },
  {
   "cell_type": "markdown",
   "id": "f745a1f7",
   "metadata": {},
   "source": [
    "**Numerical Imputation**"
   ]
  },
  {
   "cell_type": "code",
   "execution_count": 29,
   "id": "db3d19c2",
   "metadata": {},
   "outputs": [
    {
     "data": {
      "text/plain": [
       "Index(['age', 'job', 'marital', 'education', 'default', 'balance', 'housing',\n",
       "       'loan', 'contact', 'day', 'month', 'duration', 'campaign', 'pdays',\n",
       "       'previous', 'poutcome'],\n",
       "      dtype='object')"
      ]
     },
     "execution_count": 29,
     "metadata": {},
     "output_type": "execute_result"
    }
   ],
   "source": [
    "X_train.columns"
   ]
  },
  {
   "cell_type": "code",
   "execution_count": 30,
   "id": "0b80d0a0",
   "metadata": {},
   "outputs": [],
   "source": [
    "# Buat kolom numerik\n",
    "numerical_column = [\"age\", \"balance\", \"day\", \"duration\", \n",
    "                    \"campaign\", \"pdays\", \"previous\"]"
   ]
  },
  {
   "cell_type": "code",
   "execution_count": 31,
   "id": "13d1d7e7",
   "metadata": {},
   "outputs": [],
   "source": [
    "# Seleksi dataframe numerik\n",
    "X_train_numerical = X_train[numerical_column]"
   ]
  },
  {
   "cell_type": "code",
   "execution_count": 32,
   "id": "82fce7ad",
   "metadata": {},
   "outputs": [
    {
     "data": {
      "text/html": [
       "<div>\n",
       "<style scoped>\n",
       "    .dataframe tbody tr th:only-of-type {\n",
       "        vertical-align: middle;\n",
       "    }\n",
       "\n",
       "    .dataframe tbody tr th {\n",
       "        vertical-align: top;\n",
       "    }\n",
       "\n",
       "    .dataframe thead th {\n",
       "        text-align: right;\n",
       "    }\n",
       "</style>\n",
       "<table border=\"1\" class=\"dataframe\">\n",
       "  <thead>\n",
       "    <tr style=\"text-align: right;\">\n",
       "      <th></th>\n",
       "      <th>age</th>\n",
       "      <th>balance</th>\n",
       "      <th>day</th>\n",
       "      <th>duration</th>\n",
       "      <th>campaign</th>\n",
       "      <th>pdays</th>\n",
       "      <th>previous</th>\n",
       "    </tr>\n",
       "  </thead>\n",
       "  <tbody>\n",
       "    <tr>\n",
       "      <th>37156</th>\n",
       "      <td>35</td>\n",
       "      <td>2749</td>\n",
       "      <td>13</td>\n",
       "      <td>127</td>\n",
       "      <td>1</td>\n",
       "      <td>-1</td>\n",
       "      <td>0</td>\n",
       "    </tr>\n",
       "    <tr>\n",
       "      <th>20494</th>\n",
       "      <td>30</td>\n",
       "      <td>443</td>\n",
       "      <td>12</td>\n",
       "      <td>80</td>\n",
       "      <td>2</td>\n",
       "      <td>-1</td>\n",
       "      <td>0</td>\n",
       "    </tr>\n",
       "    <tr>\n",
       "      <th>35272</th>\n",
       "      <td>39</td>\n",
       "      <td>4239</td>\n",
       "      <td>7</td>\n",
       "      <td>40</td>\n",
       "      <td>1</td>\n",
       "      <td>-1</td>\n",
       "      <td>0</td>\n",
       "    </tr>\n",
       "    <tr>\n",
       "      <th>22260</th>\n",
       "      <td>49</td>\n",
       "      <td>400</td>\n",
       "      <td>21</td>\n",
       "      <td>151</td>\n",
       "      <td>3</td>\n",
       "      <td>-1</td>\n",
       "      <td>0</td>\n",
       "    </tr>\n",
       "    <tr>\n",
       "      <th>2728</th>\n",
       "      <td>28</td>\n",
       "      <td>468</td>\n",
       "      <td>13</td>\n",
       "      <td>152</td>\n",
       "      <td>3</td>\n",
       "      <td>-1</td>\n",
       "      <td>0</td>\n",
       "    </tr>\n",
       "  </tbody>\n",
       "</table>\n",
       "</div>"
      ],
      "text/plain": [
       "       age  balance  day  duration  campaign  pdays  previous\n",
       "37156   35     2749   13       127         1     -1         0\n",
       "20494   30      443   12        80         2     -1         0\n",
       "35272   39     4239    7        40         1     -1         0\n",
       "22260   49      400   21       151         3     -1         0\n",
       "2728    28      468   13       152         3     -1         0"
      ]
     },
     "execution_count": 32,
     "metadata": {},
     "output_type": "execute_result"
    }
   ],
   "source": [
    "X_train_numerical.head()"
   ]
  },
  {
   "cell_type": "markdown",
   "id": "00ddf29d",
   "metadata": {},
   "source": [
    "**Cek apakah ada data numerik yang kosong**"
   ]
  },
  {
   "cell_type": "code",
   "execution_count": 33,
   "id": "549fff74",
   "metadata": {},
   "outputs": [
    {
     "data": {
      "text/plain": [
       "age         False\n",
       "balance     False\n",
       "day         False\n",
       "duration    False\n",
       "campaign    False\n",
       "pdays       False\n",
       "previous    False\n",
       "dtype: bool"
      ]
     },
     "execution_count": 33,
     "metadata": {},
     "output_type": "execute_result"
    }
   ],
   "source": [
    "X_train_numerical.isnull().any()\n",
    "\n",
    "# Semua variabel numerical memiliki missing values"
   ]
  },
  {
   "cell_type": "markdown",
   "id": "c324b8d3",
   "metadata": {},
   "source": [
    "**Gunakan imputer dari sklearn untuk data imputation numerik saja**"
   ]
  },
  {
   "cell_type": "code",
   "execution_count": 34,
   "id": "4a3c31c9",
   "metadata": {},
   "outputs": [],
   "source": [
    "from sklearn.impute import SimpleImputer"
   ]
  },
  {
   "cell_type": "code",
   "execution_count": 35,
   "id": "4722ecad",
   "metadata": {},
   "outputs": [],
   "source": [
    "imputer = SimpleImputer(missing_values = np.nan,\n",
    "                        strategy = \"median\")\n",
    "\n",
    "# namakan function SimpleImputer menjadi imputer, jangan lupa tanda kurung ()\n",
    "# missing_values adalah tanda missing values dalam data.\n",
    "#   - bisa NaN, bisa 999, bisa \"KOSONG\"\n",
    "# Strategy median adalah strategy imputasi, \n",
    "# jika data kosong, diganti dengan median target\n",
    "# Strategi lainnya adalah: mean"
   ]
  },
  {
   "cell_type": "markdown",
   "id": "764e5d94",
   "metadata": {},
   "source": [
    "- `fit` : imputer agar mengetahui mean atau median dari tiap kolom\n",
    "- `transform` : isi data dengan median atau mean\n",
    "- output dari transform adalah pandas dataframe\n",
    "- namakan kolom `X_train_numerical_imputed` sesuai dengan `X_train_numerical`.\n",
    "   - MENGAPA? karena kita kehilangan nama kolom setelah data imputation\n",
    "- beri index dari `X_train_numerical_imputed` sesuai dengan `X_train_numerical`.\n",
    "   - MENGAPA? karena kita kehilangan index setelah data imputation"
   ]
  },
  {
   "cell_type": "code",
   "execution_count": 36,
   "id": "298cc5d1",
   "metadata": {},
   "outputs": [],
   "source": [
    "# Isi perintah yang akan dibuat dalam fungsi\n",
    "\n",
    "# Fit imputer\n",
    "imputer.fit(X_train_numerical)\n",
    "\n",
    "# Transform\n",
    "imputed_data = imputer.transform(X_train_numerical)\n",
    "X_train_numerical_imputed = pd.DataFrame(imputed_data)\n",
    "\n",
    "X_train_numerical_imputed.columns = X_train_numerical.columns\n",
    "X_train_numerical_imputed.index = X_train_numerical.index"
   ]
  },
  {
   "cell_type": "code",
   "execution_count": 37,
   "id": "e208376f",
   "metadata": {},
   "outputs": [
    {
     "data": {
      "text/plain": [
       "age         False\n",
       "balance     False\n",
       "day         False\n",
       "duration    False\n",
       "campaign    False\n",
       "pdays       False\n",
       "previous    False\n",
       "dtype: bool"
      ]
     },
     "execution_count": 37,
     "metadata": {},
     "output_type": "execute_result"
    }
   ],
   "source": [
    "X_train_numerical_imputed.isnull().any()"
   ]
  },
  {
   "cell_type": "markdown",
   "id": "2f9ec9e2",
   "metadata": {},
   "source": [
    "**Mari buat dalam fungsi**"
   ]
  },
  {
   "cell_type": "code",
   "execution_count": 38,
   "id": "2b734e7f",
   "metadata": {},
   "outputs": [],
   "source": [
    "from sklearn.impute import SimpleImputer\n",
    "\n",
    "def numericalImputation(data, numerical_column):\n",
    "    \"\"\"\n",
    "    Fungsi untuk melakukan imputasi data numerik\n",
    "    :param data: <pandas dataframe> sample data input\n",
    "    :param numerical_column: <list> list kolom numerik data\n",
    "    :return X_train_numerical: <pandas dataframe> data numerik\n",
    "    :return imputer_numerical: numerical imputer method\n",
    "    \"\"\"\n",
    "    # Filter data numerik\n",
    "    numerical_data = data[numerical_column]\n",
    "\n",
    "    # Buat imputer\n",
    "    imputer_numerical = SimpleImputer(missing_values = np.nan,\n",
    "                                      strategy = \"median\")\n",
    "    imputer_numerical.fit(numerical_data)\n",
    "\n",
    "    # Transform\n",
    "    imputed_data = imputer_numerical.transform(numerical_data)\n",
    "    numerical_data_imputed = pd.DataFrame(imputed_data)\n",
    "\n",
    "    numerical_data_imputed.columns = numerical_column\n",
    "    numerical_data_imputed.index = numerical_data.index\n",
    "\n",
    "    return numerical_data_imputed, imputer_numerical"
   ]
  },
  {
   "cell_type": "code",
   "execution_count": 39,
   "id": "fbe0375b",
   "metadata": {},
   "outputs": [],
   "source": [
    "# Input\n",
    "numerical_column = [\"age\", \"balance\", \"day\", \"duration\", \n",
    "                    \"campaign\", \"pdays\", \"previous\"]\n",
    "\n",
    "# Imputation Numeric\n",
    "X_train_numerical, imputer_numerical = numericalImputation(data = X_train,\n",
    "                                                           numerical_column = numerical_column)"
   ]
  },
  {
   "cell_type": "code",
   "execution_count": 40,
   "id": "01c63687",
   "metadata": {},
   "outputs": [
    {
     "data": {
      "text/plain": [
       "age         False\n",
       "balance     False\n",
       "day         False\n",
       "duration    False\n",
       "campaign    False\n",
       "pdays       False\n",
       "previous    False\n",
       "dtype: bool"
      ]
     },
     "execution_count": 40,
     "metadata": {},
     "output_type": "execute_result"
    }
   ],
   "source": [
    "X_train_numerical.isnull().any()"
   ]
  },
  {
   "cell_type": "markdown",
   "id": "a3cac995",
   "metadata": {},
   "source": [
    "**Categorical Imputation**"
   ]
  },
  {
   "cell_type": "code",
   "execution_count": 41,
   "id": "2381c484",
   "metadata": {},
   "outputs": [],
   "source": [
    "# Ambil daftar nama kolom kategorikal\n",
    "# Anda bisa langsung menuliskannya atau mengambil list jika jumlahnya banyak\n",
    "\n",
    "X_train_column = list(X_train.columns)\n",
    "categorical_column = list(set(X_train_column).difference(set(numerical_column)))"
   ]
  },
  {
   "cell_type": "code",
   "execution_count": 42,
   "id": "2065b46c",
   "metadata": {},
   "outputs": [
    {
     "data": {
      "text/plain": [
       "['month',\n",
       " 'poutcome',\n",
       " 'education',\n",
       " 'contact',\n",
       " 'default',\n",
       " 'marital',\n",
       " 'loan',\n",
       " 'job',\n",
       " 'housing']"
      ]
     },
     "execution_count": 42,
     "metadata": {},
     "output_type": "execute_result"
    }
   ],
   "source": [
    "categorical_column"
   ]
  },
  {
   "cell_type": "code",
   "execution_count": 43,
   "id": "948cecbb",
   "metadata": {},
   "outputs": [
    {
     "data": {
      "text/plain": [
       "month        0\n",
       "poutcome     0\n",
       "education    0\n",
       "contact      0\n",
       "default      0\n",
       "marital      0\n",
       "loan         0\n",
       "job          0\n",
       "housing      0\n",
       "dtype: int64"
      ]
     },
     "execution_count": 43,
     "metadata": {},
     "output_type": "execute_result"
    }
   ],
   "source": [
    "# Periksa lagi missing value\n",
    "categorical_data = X_train[categorical_column]\n",
    "categorical_data.isnull().sum()"
   ]
  },
  {
   "cell_type": "code",
   "execution_count": 44,
   "id": "8f030e62",
   "metadata": {},
   "outputs": [],
   "source": [
    "# Kita isi kolom kategorik dengan \"KOSONG\"\n",
    "categorical_data = X_train[categorical_column]\n",
    "categorical_data = categorical_data.fillna(value=\"KOSONG\")"
   ]
  },
  {
   "cell_type": "code",
   "execution_count": 45,
   "id": "bc7a6d1b",
   "metadata": {},
   "outputs": [
    {
     "data": {
      "text/plain": [
       "month        0\n",
       "poutcome     0\n",
       "education    0\n",
       "contact      0\n",
       "default      0\n",
       "marital      0\n",
       "loan         0\n",
       "job          0\n",
       "housing      0\n",
       "dtype: int64"
      ]
     },
     "execution_count": 45,
     "metadata": {},
     "output_type": "execute_result"
    }
   ],
   "source": [
    "categorical_data.isnull().sum()"
   ]
  },
  {
   "cell_type": "markdown",
   "id": "5a7d1244",
   "metadata": {},
   "source": [
    "**Mari buat dalam bentuk function**"
   ]
  },
  {
   "cell_type": "code",
   "execution_count": 46,
   "id": "0e652a30",
   "metadata": {},
   "outputs": [],
   "source": [
    "def categoricalImputation(data, categorical_column):\n",
    "    \"\"\"\n",
    "    Fungsi untuk melakukan imputasi data kategorik\n",
    "    :param data: <pandas dataframe> sample data input\n",
    "    :param categorical_column: <list> list kolom kategorikal data\n",
    "    :return categorical_data: <pandas dataframe> data kategorikal\n",
    "    \"\"\"\n",
    "    # seleksi data\n",
    "    categorical_data = data[categorical_column]\n",
    "\n",
    "    # lakukan imputasi\n",
    "    categorical_data = categorical_data.fillna(value=\"KOSONG\")\n",
    "\n",
    "    return categorical_data\n"
   ]
  },
  {
   "cell_type": "code",
   "execution_count": 47,
   "id": "99d8db42",
   "metadata": {},
   "outputs": [],
   "source": [
    "X_train_categorical = categoricalImputation(data = X_train,\n",
    "                                            categorical_column = categorical_column)"
   ]
  },
  {
   "cell_type": "code",
   "execution_count": 48,
   "id": "bbcb065d",
   "metadata": {},
   "outputs": [
    {
     "data": {
      "text/plain": [
       "month        0\n",
       "poutcome     0\n",
       "education    0\n",
       "contact      0\n",
       "default      0\n",
       "marital      0\n",
       "loan         0\n",
       "job          0\n",
       "housing      0\n",
       "dtype: int64"
      ]
     },
     "execution_count": 48,
     "metadata": {},
     "output_type": "execute_result"
    }
   ],
   "source": [
    "X_train_categorical.isnull().sum()"
   ]
  },
  {
   "cell_type": "markdown",
   "id": "ae1f87eb",
   "metadata": {},
   "source": [
    "### **Preprocessing Categorical Variables**\n",
    "\n",
    "- Kita tidak bisa memasukkan data categorical, jika tidak diubah menjadi numerical\n",
    "- Solusi: One Hot Encoding (OHE)"
   ]
  },
  {
   "cell_type": "code",
   "execution_count": 49,
   "id": "7d414c61",
   "metadata": {},
   "outputs": [],
   "source": [
    "categorical_ohe = pd.get_dummies(X_train_categorical)"
   ]
  },
  {
   "cell_type": "code",
   "execution_count": 50,
   "id": "fc8fcf3b",
   "metadata": {},
   "outputs": [
    {
     "data": {
      "text/html": [
       "<div>\n",
       "<style scoped>\n",
       "    .dataframe tbody tr th:only-of-type {\n",
       "        vertical-align: middle;\n",
       "    }\n",
       "\n",
       "    .dataframe tbody tr th {\n",
       "        vertical-align: top;\n",
       "    }\n",
       "\n",
       "    .dataframe thead th {\n",
       "        text-align: right;\n",
       "    }\n",
       "</style>\n",
       "<table border=\"1\" class=\"dataframe\">\n",
       "  <thead>\n",
       "    <tr style=\"text-align: right;\">\n",
       "      <th></th>\n",
       "      <th>month_apr</th>\n",
       "      <th>month_aug</th>\n",
       "      <th>month_dec</th>\n",
       "      <th>month_feb</th>\n",
       "      <th>month_jan</th>\n",
       "      <th>month_jul</th>\n",
       "      <th>month_jun</th>\n",
       "      <th>month_mar</th>\n",
       "      <th>month_may</th>\n",
       "      <th>month_nov</th>\n",
       "      <th>...</th>\n",
       "      <th>job_management</th>\n",
       "      <th>job_retired</th>\n",
       "      <th>job_self</th>\n",
       "      <th>job_services</th>\n",
       "      <th>job_student</th>\n",
       "      <th>job_technician</th>\n",
       "      <th>job_unemployed</th>\n",
       "      <th>job_unknown</th>\n",
       "      <th>housing_no</th>\n",
       "      <th>housing_yes</th>\n",
       "    </tr>\n",
       "  </thead>\n",
       "  <tbody>\n",
       "    <tr>\n",
       "      <th>37156</th>\n",
       "      <td>0</td>\n",
       "      <td>0</td>\n",
       "      <td>0</td>\n",
       "      <td>0</td>\n",
       "      <td>0</td>\n",
       "      <td>0</td>\n",
       "      <td>0</td>\n",
       "      <td>0</td>\n",
       "      <td>1</td>\n",
       "      <td>0</td>\n",
       "      <td>...</td>\n",
       "      <td>1</td>\n",
       "      <td>0</td>\n",
       "      <td>0</td>\n",
       "      <td>0</td>\n",
       "      <td>0</td>\n",
       "      <td>0</td>\n",
       "      <td>0</td>\n",
       "      <td>0</td>\n",
       "      <td>1</td>\n",
       "      <td>0</td>\n",
       "    </tr>\n",
       "    <tr>\n",
       "      <th>20494</th>\n",
       "      <td>0</td>\n",
       "      <td>1</td>\n",
       "      <td>0</td>\n",
       "      <td>0</td>\n",
       "      <td>0</td>\n",
       "      <td>0</td>\n",
       "      <td>0</td>\n",
       "      <td>0</td>\n",
       "      <td>0</td>\n",
       "      <td>0</td>\n",
       "      <td>...</td>\n",
       "      <td>1</td>\n",
       "      <td>0</td>\n",
       "      <td>0</td>\n",
       "      <td>0</td>\n",
       "      <td>0</td>\n",
       "      <td>0</td>\n",
       "      <td>0</td>\n",
       "      <td>0</td>\n",
       "      <td>0</td>\n",
       "      <td>1</td>\n",
       "    </tr>\n",
       "  </tbody>\n",
       "</table>\n",
       "<p>2 rows × 44 columns</p>\n",
       "</div>"
      ],
      "text/plain": [
       "       month_apr  month_aug  month_dec  month_feb  month_jan  month_jul  \\\n",
       "37156          0          0          0          0          0          0   \n",
       "20494          0          1          0          0          0          0   \n",
       "\n",
       "       month_jun  month_mar  month_may  month_nov  ...  job_management  \\\n",
       "37156          0          0          1          0  ...               1   \n",
       "20494          0          0          0          0  ...               1   \n",
       "\n",
       "       job_retired  job_self  job_services  job_student  job_technician  \\\n",
       "37156            0         0             0            0               0   \n",
       "20494            0         0             0            0               0   \n",
       "\n",
       "       job_unemployed  job_unknown  housing_no  housing_yes  \n",
       "37156               0            0           1            0  \n",
       "20494               0            0           0            1  \n",
       "\n",
       "[2 rows x 44 columns]"
      ]
     },
     "execution_count": 50,
     "metadata": {},
     "output_type": "execute_result"
    }
   ],
   "source": [
    "categorical_ohe.head(2)"
   ]
  },
  {
   "cell_type": "markdown",
   "id": "1ce22f80",
   "metadata": {},
   "source": [
    "**Mari buat menjadi fungsi**"
   ]
  },
  {
   "cell_type": "code",
   "execution_count": 51,
   "id": "a0981ec0",
   "metadata": {},
   "outputs": [],
   "source": [
    "def extractCategorical(data, categorical_column):\n",
    "    \"\"\"\n",
    "    Fungsi untuk ekstrak data kategorikal dengan One Hot Encoding\n",
    "    :param data: <pandas dataframe> data sample\n",
    "    :param categorical_column: <list> list kolom kategorik\n",
    "    :return categorical_ohe: <pandas dataframe> data sample dengan ohe\n",
    "    \"\"\"\n",
    "    data_categorical = categoricalImputation(data = data,\n",
    "                                             categorical_column = categorical_column)\n",
    "    categorical_ohe = pd.get_dummies(data_categorical)\n",
    "\n",
    "    return categorical_ohe"
   ]
  },
  {
   "cell_type": "code",
   "execution_count": 52,
   "id": "036ee414",
   "metadata": {},
   "outputs": [],
   "source": [
    "X_train_categorical_ohe = extractCategorical(data = X_train,\n",
    "                                             categorical_column = categorical_column)"
   ]
  },
  {
   "cell_type": "code",
   "execution_count": 53,
   "id": "ba4f4ec2",
   "metadata": {},
   "outputs": [
    {
     "data": {
      "text/html": [
       "<div>\n",
       "<style scoped>\n",
       "    .dataframe tbody tr th:only-of-type {\n",
       "        vertical-align: middle;\n",
       "    }\n",
       "\n",
       "    .dataframe tbody tr th {\n",
       "        vertical-align: top;\n",
       "    }\n",
       "\n",
       "    .dataframe thead th {\n",
       "        text-align: right;\n",
       "    }\n",
       "</style>\n",
       "<table border=\"1\" class=\"dataframe\">\n",
       "  <thead>\n",
       "    <tr style=\"text-align: right;\">\n",
       "      <th></th>\n",
       "      <th>month_apr</th>\n",
       "      <th>month_aug</th>\n",
       "      <th>month_dec</th>\n",
       "      <th>month_feb</th>\n",
       "      <th>month_jan</th>\n",
       "      <th>month_jul</th>\n",
       "      <th>month_jun</th>\n",
       "      <th>month_mar</th>\n",
       "      <th>month_may</th>\n",
       "      <th>month_nov</th>\n",
       "      <th>...</th>\n",
       "      <th>job_management</th>\n",
       "      <th>job_retired</th>\n",
       "      <th>job_self</th>\n",
       "      <th>job_services</th>\n",
       "      <th>job_student</th>\n",
       "      <th>job_technician</th>\n",
       "      <th>job_unemployed</th>\n",
       "      <th>job_unknown</th>\n",
       "      <th>housing_no</th>\n",
       "      <th>housing_yes</th>\n",
       "    </tr>\n",
       "  </thead>\n",
       "  <tbody>\n",
       "    <tr>\n",
       "      <th>37156</th>\n",
       "      <td>0</td>\n",
       "      <td>0</td>\n",
       "      <td>0</td>\n",
       "      <td>0</td>\n",
       "      <td>0</td>\n",
       "      <td>0</td>\n",
       "      <td>0</td>\n",
       "      <td>0</td>\n",
       "      <td>1</td>\n",
       "      <td>0</td>\n",
       "      <td>...</td>\n",
       "      <td>1</td>\n",
       "      <td>0</td>\n",
       "      <td>0</td>\n",
       "      <td>0</td>\n",
       "      <td>0</td>\n",
       "      <td>0</td>\n",
       "      <td>0</td>\n",
       "      <td>0</td>\n",
       "      <td>1</td>\n",
       "      <td>0</td>\n",
       "    </tr>\n",
       "    <tr>\n",
       "      <th>20494</th>\n",
       "      <td>0</td>\n",
       "      <td>1</td>\n",
       "      <td>0</td>\n",
       "      <td>0</td>\n",
       "      <td>0</td>\n",
       "      <td>0</td>\n",
       "      <td>0</td>\n",
       "      <td>0</td>\n",
       "      <td>0</td>\n",
       "      <td>0</td>\n",
       "      <td>...</td>\n",
       "      <td>1</td>\n",
       "      <td>0</td>\n",
       "      <td>0</td>\n",
       "      <td>0</td>\n",
       "      <td>0</td>\n",
       "      <td>0</td>\n",
       "      <td>0</td>\n",
       "      <td>0</td>\n",
       "      <td>0</td>\n",
       "      <td>1</td>\n",
       "    </tr>\n",
       "    <tr>\n",
       "      <th>35272</th>\n",
       "      <td>0</td>\n",
       "      <td>0</td>\n",
       "      <td>0</td>\n",
       "      <td>0</td>\n",
       "      <td>0</td>\n",
       "      <td>0</td>\n",
       "      <td>0</td>\n",
       "      <td>0</td>\n",
       "      <td>1</td>\n",
       "      <td>0</td>\n",
       "      <td>...</td>\n",
       "      <td>1</td>\n",
       "      <td>0</td>\n",
       "      <td>0</td>\n",
       "      <td>0</td>\n",
       "      <td>0</td>\n",
       "      <td>0</td>\n",
       "      <td>0</td>\n",
       "      <td>0</td>\n",
       "      <td>0</td>\n",
       "      <td>1</td>\n",
       "    </tr>\n",
       "    <tr>\n",
       "      <th>22260</th>\n",
       "      <td>0</td>\n",
       "      <td>1</td>\n",
       "      <td>0</td>\n",
       "      <td>0</td>\n",
       "      <td>0</td>\n",
       "      <td>0</td>\n",
       "      <td>0</td>\n",
       "      <td>0</td>\n",
       "      <td>0</td>\n",
       "      <td>0</td>\n",
       "      <td>...</td>\n",
       "      <td>0</td>\n",
       "      <td>0</td>\n",
       "      <td>0</td>\n",
       "      <td>1</td>\n",
       "      <td>0</td>\n",
       "      <td>0</td>\n",
       "      <td>0</td>\n",
       "      <td>0</td>\n",
       "      <td>1</td>\n",
       "      <td>0</td>\n",
       "    </tr>\n",
       "    <tr>\n",
       "      <th>2728</th>\n",
       "      <td>0</td>\n",
       "      <td>0</td>\n",
       "      <td>0</td>\n",
       "      <td>0</td>\n",
       "      <td>0</td>\n",
       "      <td>0</td>\n",
       "      <td>0</td>\n",
       "      <td>0</td>\n",
       "      <td>1</td>\n",
       "      <td>0</td>\n",
       "      <td>...</td>\n",
       "      <td>0</td>\n",
       "      <td>0</td>\n",
       "      <td>0</td>\n",
       "      <td>0</td>\n",
       "      <td>0</td>\n",
       "      <td>1</td>\n",
       "      <td>0</td>\n",
       "      <td>0</td>\n",
       "      <td>0</td>\n",
       "      <td>1</td>\n",
       "    </tr>\n",
       "  </tbody>\n",
       "</table>\n",
       "<p>5 rows × 44 columns</p>\n",
       "</div>"
      ],
      "text/plain": [
       "       month_apr  month_aug  month_dec  month_feb  month_jan  month_jul  \\\n",
       "37156          0          0          0          0          0          0   \n",
       "20494          0          1          0          0          0          0   \n",
       "35272          0          0          0          0          0          0   \n",
       "22260          0          1          0          0          0          0   \n",
       "2728           0          0          0          0          0          0   \n",
       "\n",
       "       month_jun  month_mar  month_may  month_nov  ...  job_management  \\\n",
       "37156          0          0          1          0  ...               1   \n",
       "20494          0          0          0          0  ...               1   \n",
       "35272          0          0          1          0  ...               1   \n",
       "22260          0          0          0          0  ...               0   \n",
       "2728           0          0          1          0  ...               0   \n",
       "\n",
       "       job_retired  job_self  job_services  job_student  job_technician  \\\n",
       "37156            0         0             0            0               0   \n",
       "20494            0         0             0            0               0   \n",
       "35272            0         0             0            0               0   \n",
       "22260            0         0             1            0               0   \n",
       "2728             0         0             0            0               1   \n",
       "\n",
       "       job_unemployed  job_unknown  housing_no  housing_yes  \n",
       "37156               0            0           1            0  \n",
       "20494               0            0           0            1  \n",
       "35272               0            0           0            1  \n",
       "22260               0            0           1            0  \n",
       "2728                0            0           0            1  \n",
       "\n",
       "[5 rows x 44 columns]"
      ]
     },
     "execution_count": 53,
     "metadata": {},
     "output_type": "execute_result"
    }
   ],
   "source": [
    "X_train_categorical_ohe.head()"
   ]
  },
  {
   "cell_type": "code",
   "execution_count": 54,
   "id": "a7f3a2ca",
   "metadata": {},
   "outputs": [],
   "source": [
    "# Simpan kolom OHE untuk diimplementasikan dalam testing data\n",
    "# Agar shape-nya konsisten\n",
    "ohe_columns = X_train_categorical_ohe.columns"
   ]
  },
  {
   "cell_type": "code",
   "execution_count": 55,
   "id": "637c07ae",
   "metadata": {},
   "outputs": [
    {
     "data": {
      "text/plain": [
       "Index(['month_apr', 'month_aug', 'month_dec', 'month_feb', 'month_jan',\n",
       "       'month_jul', 'month_jun', 'month_mar', 'month_may', 'month_nov',\n",
       "       'month_oct', 'month_sep', 'poutcome_failure', 'poutcome_other',\n",
       "       'poutcome_success', 'poutcome_unknown', 'education_primary',\n",
       "       'education_secondary', 'education_tertiary', 'education_unknown',\n",
       "       'contact_cellular', 'contact_telephone', 'contact_unknown',\n",
       "       'default_no', 'default_yes', 'marital_divorced', 'marital_married',\n",
       "       'marital_single', 'loan_no', 'loan_yes', 'job_admin', 'job_blue',\n",
       "       'job_entrepreneur', 'job_housemaid', 'job_management', 'job_retired',\n",
       "       'job_self', 'job_services', 'job_student', 'job_technician',\n",
       "       'job_unemployed', 'job_unknown', 'housing_no', 'housing_yes'],\n",
       "      dtype='object')"
      ]
     },
     "execution_count": 55,
     "metadata": {},
     "output_type": "execute_result"
    }
   ],
   "source": [
    "ohe_columns"
   ]
  },
  {
   "cell_type": "markdown",
   "id": "8ca49626",
   "metadata": {},
   "source": [
    "### **Join data Numerical dan Categorical**\n",
    "\n",
    "- Data numerik & kategorik harus disatukan kembali\n",
    "- Penyatuan dengan `pd.concat`"
   ]
  },
  {
   "cell_type": "code",
   "execution_count": 56,
   "id": "0b98d1e3",
   "metadata": {},
   "outputs": [],
   "source": [
    "X_train_concat = pd.concat([X_train_numerical,\n",
    "                            X_train_categorical_ohe],\n",
    "                           axis = 1)"
   ]
  },
  {
   "cell_type": "code",
   "execution_count": 57,
   "id": "b220e307",
   "metadata": {},
   "outputs": [
    {
     "data": {
      "text/html": [
       "<div>\n",
       "<style scoped>\n",
       "    .dataframe tbody tr th:only-of-type {\n",
       "        vertical-align: middle;\n",
       "    }\n",
       "\n",
       "    .dataframe tbody tr th {\n",
       "        vertical-align: top;\n",
       "    }\n",
       "\n",
       "    .dataframe thead th {\n",
       "        text-align: right;\n",
       "    }\n",
       "</style>\n",
       "<table border=\"1\" class=\"dataframe\">\n",
       "  <thead>\n",
       "    <tr style=\"text-align: right;\">\n",
       "      <th></th>\n",
       "      <th>age</th>\n",
       "      <th>balance</th>\n",
       "      <th>day</th>\n",
       "      <th>duration</th>\n",
       "      <th>campaign</th>\n",
       "      <th>pdays</th>\n",
       "      <th>previous</th>\n",
       "      <th>month_apr</th>\n",
       "      <th>month_aug</th>\n",
       "      <th>month_dec</th>\n",
       "      <th>...</th>\n",
       "      <th>job_management</th>\n",
       "      <th>job_retired</th>\n",
       "      <th>job_self</th>\n",
       "      <th>job_services</th>\n",
       "      <th>job_student</th>\n",
       "      <th>job_technician</th>\n",
       "      <th>job_unemployed</th>\n",
       "      <th>job_unknown</th>\n",
       "      <th>housing_no</th>\n",
       "      <th>housing_yes</th>\n",
       "    </tr>\n",
       "  </thead>\n",
       "  <tbody>\n",
       "    <tr>\n",
       "      <th>37156</th>\n",
       "      <td>35.0</td>\n",
       "      <td>2749.0</td>\n",
       "      <td>13.0</td>\n",
       "      <td>127.0</td>\n",
       "      <td>1.0</td>\n",
       "      <td>-1.0</td>\n",
       "      <td>0.0</td>\n",
       "      <td>0</td>\n",
       "      <td>0</td>\n",
       "      <td>0</td>\n",
       "      <td>...</td>\n",
       "      <td>1</td>\n",
       "      <td>0</td>\n",
       "      <td>0</td>\n",
       "      <td>0</td>\n",
       "      <td>0</td>\n",
       "      <td>0</td>\n",
       "      <td>0</td>\n",
       "      <td>0</td>\n",
       "      <td>1</td>\n",
       "      <td>0</td>\n",
       "    </tr>\n",
       "    <tr>\n",
       "      <th>20494</th>\n",
       "      <td>30.0</td>\n",
       "      <td>443.0</td>\n",
       "      <td>12.0</td>\n",
       "      <td>80.0</td>\n",
       "      <td>2.0</td>\n",
       "      <td>-1.0</td>\n",
       "      <td>0.0</td>\n",
       "      <td>0</td>\n",
       "      <td>1</td>\n",
       "      <td>0</td>\n",
       "      <td>...</td>\n",
       "      <td>1</td>\n",
       "      <td>0</td>\n",
       "      <td>0</td>\n",
       "      <td>0</td>\n",
       "      <td>0</td>\n",
       "      <td>0</td>\n",
       "      <td>0</td>\n",
       "      <td>0</td>\n",
       "      <td>0</td>\n",
       "      <td>1</td>\n",
       "    </tr>\n",
       "    <tr>\n",
       "      <th>35272</th>\n",
       "      <td>39.0</td>\n",
       "      <td>4239.0</td>\n",
       "      <td>7.0</td>\n",
       "      <td>40.0</td>\n",
       "      <td>1.0</td>\n",
       "      <td>-1.0</td>\n",
       "      <td>0.0</td>\n",
       "      <td>0</td>\n",
       "      <td>0</td>\n",
       "      <td>0</td>\n",
       "      <td>...</td>\n",
       "      <td>1</td>\n",
       "      <td>0</td>\n",
       "      <td>0</td>\n",
       "      <td>0</td>\n",
       "      <td>0</td>\n",
       "      <td>0</td>\n",
       "      <td>0</td>\n",
       "      <td>0</td>\n",
       "      <td>0</td>\n",
       "      <td>1</td>\n",
       "    </tr>\n",
       "    <tr>\n",
       "      <th>22260</th>\n",
       "      <td>49.0</td>\n",
       "      <td>400.0</td>\n",
       "      <td>21.0</td>\n",
       "      <td>151.0</td>\n",
       "      <td>3.0</td>\n",
       "      <td>-1.0</td>\n",
       "      <td>0.0</td>\n",
       "      <td>0</td>\n",
       "      <td>1</td>\n",
       "      <td>0</td>\n",
       "      <td>...</td>\n",
       "      <td>0</td>\n",
       "      <td>0</td>\n",
       "      <td>0</td>\n",
       "      <td>1</td>\n",
       "      <td>0</td>\n",
       "      <td>0</td>\n",
       "      <td>0</td>\n",
       "      <td>0</td>\n",
       "      <td>1</td>\n",
       "      <td>0</td>\n",
       "    </tr>\n",
       "    <tr>\n",
       "      <th>2728</th>\n",
       "      <td>28.0</td>\n",
       "      <td>468.0</td>\n",
       "      <td>13.0</td>\n",
       "      <td>152.0</td>\n",
       "      <td>3.0</td>\n",
       "      <td>-1.0</td>\n",
       "      <td>0.0</td>\n",
       "      <td>0</td>\n",
       "      <td>0</td>\n",
       "      <td>0</td>\n",
       "      <td>...</td>\n",
       "      <td>0</td>\n",
       "      <td>0</td>\n",
       "      <td>0</td>\n",
       "      <td>0</td>\n",
       "      <td>0</td>\n",
       "      <td>1</td>\n",
       "      <td>0</td>\n",
       "      <td>0</td>\n",
       "      <td>0</td>\n",
       "      <td>1</td>\n",
       "    </tr>\n",
       "  </tbody>\n",
       "</table>\n",
       "<p>5 rows × 51 columns</p>\n",
       "</div>"
      ],
      "text/plain": [
       "        age  balance   day  duration  campaign  pdays  previous  month_apr  \\\n",
       "37156  35.0   2749.0  13.0     127.0       1.0   -1.0       0.0          0   \n",
       "20494  30.0    443.0  12.0      80.0       2.0   -1.0       0.0          0   \n",
       "35272  39.0   4239.0   7.0      40.0       1.0   -1.0       0.0          0   \n",
       "22260  49.0    400.0  21.0     151.0       3.0   -1.0       0.0          0   \n",
       "2728   28.0    468.0  13.0     152.0       3.0   -1.0       0.0          0   \n",
       "\n",
       "       month_aug  month_dec  ...  job_management  job_retired  job_self  \\\n",
       "37156          0          0  ...               1            0         0   \n",
       "20494          1          0  ...               1            0         0   \n",
       "35272          0          0  ...               1            0         0   \n",
       "22260          1          0  ...               0            0         0   \n",
       "2728           0          0  ...               0            0         0   \n",
       "\n",
       "       job_services  job_student  job_technician  job_unemployed  job_unknown  \\\n",
       "37156             0            0               0               0            0   \n",
       "20494             0            0               0               0            0   \n",
       "35272             0            0               0               0            0   \n",
       "22260             1            0               0               0            0   \n",
       "2728              0            0               1               0            0   \n",
       "\n",
       "       housing_no  housing_yes  \n",
       "37156           1            0  \n",
       "20494           0            1  \n",
       "35272           0            1  \n",
       "22260           1            0  \n",
       "2728            0            1  \n",
       "\n",
       "[5 rows x 51 columns]"
      ]
     },
     "execution_count": 57,
     "metadata": {},
     "output_type": "execute_result"
    }
   ],
   "source": [
    "X_train_concat.head()"
   ]
  },
  {
   "cell_type": "code",
   "execution_count": 58,
   "id": "1616da2d",
   "metadata": {},
   "outputs": [
    {
     "data": {
      "text/plain": [
       "age                    False\n",
       "balance                False\n",
       "day                    False\n",
       "duration               False\n",
       "campaign               False\n",
       "pdays                  False\n",
       "previous               False\n",
       "month_apr              False\n",
       "month_aug              False\n",
       "month_dec              False\n",
       "month_feb              False\n",
       "month_jan              False\n",
       "month_jul              False\n",
       "month_jun              False\n",
       "month_mar              False\n",
       "month_may              False\n",
       "month_nov              False\n",
       "month_oct              False\n",
       "month_sep              False\n",
       "poutcome_failure       False\n",
       "poutcome_other         False\n",
       "poutcome_success       False\n",
       "poutcome_unknown       False\n",
       "education_primary      False\n",
       "education_secondary    False\n",
       "education_tertiary     False\n",
       "education_unknown      False\n",
       "contact_cellular       False\n",
       "contact_telephone      False\n",
       "contact_unknown        False\n",
       "default_no             False\n",
       "default_yes            False\n",
       "marital_divorced       False\n",
       "marital_married        False\n",
       "marital_single         False\n",
       "loan_no                False\n",
       "loan_yes               False\n",
       "job_admin              False\n",
       "job_blue               False\n",
       "job_entrepreneur       False\n",
       "job_housemaid          False\n",
       "job_management         False\n",
       "job_retired            False\n",
       "job_self               False\n",
       "job_services           False\n",
       "job_student            False\n",
       "job_technician         False\n",
       "job_unemployed         False\n",
       "job_unknown            False\n",
       "housing_no             False\n",
       "housing_yes            False\n",
       "dtype: bool"
      ]
     },
     "execution_count": 58,
     "metadata": {},
     "output_type": "execute_result"
    }
   ],
   "source": [
    "X_train_concat.isnull().any()"
   ]
  },
  {
   "cell_type": "markdown",
   "id": "b0e34c37",
   "metadata": {},
   "source": [
    "### **Standardizing Variables**\n",
    "\n",
    "- Menyamakan skala dari variabel input\n",
    "- `fit`: imputer agar mengetahui mean dan standar deviasi dari setiap kolom\n",
    "- `transform`: isi data dengan value yang sudah dinormalisasi\n",
    "- output dari transform berupa pandas dataframe\n",
    "- normalize dikeluarkan karena akan digunakan pada data test"
   ]
  },
  {
   "cell_type": "code",
   "execution_count": 59,
   "id": "014f63cd",
   "metadata": {},
   "outputs": [],
   "source": [
    "from sklearn.preprocessing import StandardScaler\n",
    "\n",
    "# Buat fungsi\n",
    "def standardizerData(data):\n",
    "    \"\"\"\n",
    "    Fungsi untuk melakukan standarisasi data\n",
    "    :param data: <pandas dataframe> sampel data\n",
    "    :return standardized_data: <pandas dataframe> sampel data standard\n",
    "    :return standardizer: method untuk standardisasi data\n",
    "    \"\"\"\n",
    "    data_columns = data.columns  # agar nama kolom tidak hilang\n",
    "    data_index = data.index  # agar index tidak hilang\n",
    "\n",
    "    # buat (fit) standardizer\n",
    "    standardizer = StandardScaler()\n",
    "    standardizer.fit(data)\n",
    "\n",
    "    # transform data\n",
    "    standardized_data_raw = standardizer.transform(data)\n",
    "    standardized_data = pd.DataFrame(standardized_data_raw)\n",
    "    standardized_data.columns = data_columns\n",
    "    standardized_data.index = data_index\n",
    "\n",
    "    return standardized_data, standardizer"
   ]
  },
  {
   "cell_type": "code",
   "execution_count": 60,
   "id": "314a3132",
   "metadata": {},
   "outputs": [],
   "source": [
    "X_train_clean, standardizer = standardizerData(data = X_train_concat)"
   ]
  },
  {
   "cell_type": "code",
   "execution_count": 61,
   "id": "5f0a9585",
   "metadata": {},
   "outputs": [
    {
     "data": {
      "text/html": [
       "<div>\n",
       "<style scoped>\n",
       "    .dataframe tbody tr th:only-of-type {\n",
       "        vertical-align: middle;\n",
       "    }\n",
       "\n",
       "    .dataframe tbody tr th {\n",
       "        vertical-align: top;\n",
       "    }\n",
       "\n",
       "    .dataframe thead th {\n",
       "        text-align: right;\n",
       "    }\n",
       "</style>\n",
       "<table border=\"1\" class=\"dataframe\">\n",
       "  <thead>\n",
       "    <tr style=\"text-align: right;\">\n",
       "      <th></th>\n",
       "      <th>age</th>\n",
       "      <th>balance</th>\n",
       "      <th>day</th>\n",
       "      <th>duration</th>\n",
       "      <th>campaign</th>\n",
       "      <th>pdays</th>\n",
       "      <th>previous</th>\n",
       "      <th>month_apr</th>\n",
       "      <th>month_aug</th>\n",
       "      <th>month_dec</th>\n",
       "      <th>...</th>\n",
       "      <th>job_management</th>\n",
       "      <th>job_retired</th>\n",
       "      <th>job_self</th>\n",
       "      <th>job_services</th>\n",
       "      <th>job_student</th>\n",
       "      <th>job_technician</th>\n",
       "      <th>job_unemployed</th>\n",
       "      <th>job_unknown</th>\n",
       "      <th>housing_no</th>\n",
       "      <th>housing_yes</th>\n",
       "    </tr>\n",
       "  </thead>\n",
       "  <tbody>\n",
       "    <tr>\n",
       "      <th>37156</th>\n",
       "      <td>-0.561073</td>\n",
       "      <td>0.457432</td>\n",
       "      <td>-0.338619</td>\n",
       "      <td>-0.510952</td>\n",
       "      <td>-0.566774</td>\n",
       "      <td>-0.408474</td>\n",
       "      <td>-0.239753</td>\n",
       "      <td>-0.264238</td>\n",
       "      <td>-0.398711</td>\n",
       "      <td>-0.070775</td>\n",
       "      <td>...</td>\n",
       "      <td>1.937442</td>\n",
       "      <td>-0.230241</td>\n",
       "      <td>-0.190879</td>\n",
       "      <td>-0.316986</td>\n",
       "      <td>-0.143697</td>\n",
       "      <td>-0.447672</td>\n",
       "      <td>-0.172244</td>\n",
       "      <td>-0.079882</td>\n",
       "      <td>1.118049</td>\n",
       "      <td>-1.118049</td>\n",
       "    </tr>\n",
       "    <tr>\n",
       "      <th>20494</th>\n",
       "      <td>-1.031904</td>\n",
       "      <td>-0.303457</td>\n",
       "      <td>-0.458602</td>\n",
       "      <td>-0.694422</td>\n",
       "      <td>-0.246145</td>\n",
       "      <td>-0.408474</td>\n",
       "      <td>-0.239753</td>\n",
       "      <td>-0.264238</td>\n",
       "      <td>2.508082</td>\n",
       "      <td>-0.070775</td>\n",
       "      <td>...</td>\n",
       "      <td>1.937442</td>\n",
       "      <td>-0.230241</td>\n",
       "      <td>-0.190879</td>\n",
       "      <td>-0.316986</td>\n",
       "      <td>-0.143697</td>\n",
       "      <td>-0.447672</td>\n",
       "      <td>-0.172244</td>\n",
       "      <td>-0.079882</td>\n",
       "      <td>-0.894415</td>\n",
       "      <td>0.894415</td>\n",
       "    </tr>\n",
       "    <tr>\n",
       "      <th>35272</th>\n",
       "      <td>-0.184408</td>\n",
       "      <td>0.949074</td>\n",
       "      <td>-1.058516</td>\n",
       "      <td>-0.850565</td>\n",
       "      <td>-0.566774</td>\n",
       "      <td>-0.408474</td>\n",
       "      <td>-0.239753</td>\n",
       "      <td>-0.264238</td>\n",
       "      <td>-0.398711</td>\n",
       "      <td>-0.070775</td>\n",
       "      <td>...</td>\n",
       "      <td>1.937442</td>\n",
       "      <td>-0.230241</td>\n",
       "      <td>-0.190879</td>\n",
       "      <td>-0.316986</td>\n",
       "      <td>-0.143697</td>\n",
       "      <td>-0.447672</td>\n",
       "      <td>-0.172244</td>\n",
       "      <td>-0.079882</td>\n",
       "      <td>-0.894415</td>\n",
       "      <td>0.894415</td>\n",
       "    </tr>\n",
       "    <tr>\n",
       "      <th>22260</th>\n",
       "      <td>0.757254</td>\n",
       "      <td>-0.317645</td>\n",
       "      <td>0.621244</td>\n",
       "      <td>-0.417266</td>\n",
       "      <td>0.074484</td>\n",
       "      <td>-0.408474</td>\n",
       "      <td>-0.239753</td>\n",
       "      <td>-0.264238</td>\n",
       "      <td>2.508082</td>\n",
       "      <td>-0.070775</td>\n",
       "      <td>...</td>\n",
       "      <td>-0.516145</td>\n",
       "      <td>-0.230241</td>\n",
       "      <td>-0.190879</td>\n",
       "      <td>3.154710</td>\n",
       "      <td>-0.143697</td>\n",
       "      <td>-0.447672</td>\n",
       "      <td>-0.172244</td>\n",
       "      <td>-0.079882</td>\n",
       "      <td>1.118049</td>\n",
       "      <td>-1.118049</td>\n",
       "    </tr>\n",
       "    <tr>\n",
       "      <th>2728</th>\n",
       "      <td>-1.220236</td>\n",
       "      <td>-0.295208</td>\n",
       "      <td>-0.338619</td>\n",
       "      <td>-0.413363</td>\n",
       "      <td>0.074484</td>\n",
       "      <td>-0.408474</td>\n",
       "      <td>-0.239753</td>\n",
       "      <td>-0.264238</td>\n",
       "      <td>-0.398711</td>\n",
       "      <td>-0.070775</td>\n",
       "      <td>...</td>\n",
       "      <td>-0.516145</td>\n",
       "      <td>-0.230241</td>\n",
       "      <td>-0.190879</td>\n",
       "      <td>-0.316986</td>\n",
       "      <td>-0.143697</td>\n",
       "      <td>2.233776</td>\n",
       "      <td>-0.172244</td>\n",
       "      <td>-0.079882</td>\n",
       "      <td>-0.894415</td>\n",
       "      <td>0.894415</td>\n",
       "    </tr>\n",
       "  </tbody>\n",
       "</table>\n",
       "<p>5 rows × 51 columns</p>\n",
       "</div>"
      ],
      "text/plain": [
       "            age   balance       day  duration  campaign     pdays  previous  \\\n",
       "37156 -0.561073  0.457432 -0.338619 -0.510952 -0.566774 -0.408474 -0.239753   \n",
       "20494 -1.031904 -0.303457 -0.458602 -0.694422 -0.246145 -0.408474 -0.239753   \n",
       "35272 -0.184408  0.949074 -1.058516 -0.850565 -0.566774 -0.408474 -0.239753   \n",
       "22260  0.757254 -0.317645  0.621244 -0.417266  0.074484 -0.408474 -0.239753   \n",
       "2728  -1.220236 -0.295208 -0.338619 -0.413363  0.074484 -0.408474 -0.239753   \n",
       "\n",
       "       month_apr  month_aug  month_dec  ...  job_management  job_retired  \\\n",
       "37156  -0.264238  -0.398711  -0.070775  ...        1.937442    -0.230241   \n",
       "20494  -0.264238   2.508082  -0.070775  ...        1.937442    -0.230241   \n",
       "35272  -0.264238  -0.398711  -0.070775  ...        1.937442    -0.230241   \n",
       "22260  -0.264238   2.508082  -0.070775  ...       -0.516145    -0.230241   \n",
       "2728   -0.264238  -0.398711  -0.070775  ...       -0.516145    -0.230241   \n",
       "\n",
       "       job_self  job_services  job_student  job_technician  job_unemployed  \\\n",
       "37156 -0.190879     -0.316986    -0.143697       -0.447672       -0.172244   \n",
       "20494 -0.190879     -0.316986    -0.143697       -0.447672       -0.172244   \n",
       "35272 -0.190879     -0.316986    -0.143697       -0.447672       -0.172244   \n",
       "22260 -0.190879      3.154710    -0.143697       -0.447672       -0.172244   \n",
       "2728  -0.190879     -0.316986    -0.143697        2.233776       -0.172244   \n",
       "\n",
       "       job_unknown  housing_no  housing_yes  \n",
       "37156    -0.079882    1.118049    -1.118049  \n",
       "20494    -0.079882   -0.894415     0.894415  \n",
       "35272    -0.079882   -0.894415     0.894415  \n",
       "22260    -0.079882    1.118049    -1.118049  \n",
       "2728     -0.079882   -0.894415     0.894415  \n",
       "\n",
       "[5 rows x 51 columns]"
      ]
     },
     "execution_count": 61,
     "metadata": {},
     "output_type": "execute_result"
    }
   ],
   "source": [
    "X_train_clean.head()"
   ]
  },
  {
   "cell_type": "markdown",
   "id": "4a10d5c4",
   "metadata": {},
   "source": [
    "## <b><font color='blue'> 3. Training Machine Learning:</font></b>\n",
    "---\n",
    "    * Choose Score to optimize and Hyperparameter Space\n",
    "    * Cross-Validation: Random vs Grid Search CV\n",
    "    * Kita harus mengalahkan benchmark"
   ]
  },
  {
   "cell_type": "markdown",
   "id": "a01798f5",
   "metadata": {},
   "source": [
    "### **Benchmark / Baseline**\n",
    "\n",
    "- Baseline untuk evaluasi nanti\n",
    "- Karena ini klasifikasi, bisa kita ambil dari proporsi kelas target yang terbesar\n",
    "- Dengan kata lain, menebak hasil output marketing response dengan nilai \"no\" semua tanpa modeling"
   ]
  },
  {
   "cell_type": "code",
   "execution_count": 62,
   "id": "27d1e92e",
   "metadata": {},
   "outputs": [
    {
     "data": {
      "text/plain": [
       "0    0.882624\n",
       "1    0.117376\n",
       "Name: y, dtype: float64"
      ]
     },
     "execution_count": 62,
     "metadata": {},
     "output_type": "execute_result"
    }
   ],
   "source": [
    "y_train.value_counts(normalize = True)\n",
    "\n",
    "# baseline akurasi = 88%"
   ]
  },
  {
   "cell_type": "markdown",
   "id": "afe2b26c",
   "metadata": {},
   "source": [
    "### **1. Import Model**\n",
    "\n",
    "- Misal kita gunakan 3 model ML untuk klasifikasi:\n",
    "    - K-nearest neighbor (K-NN)\n",
    "    - Logistic Regression\n",
    "    - Random Forest"
   ]
  },
  {
   "cell_type": "code",
   "execution_count": 63,
   "id": "c9bcfbe8",
   "metadata": {},
   "outputs": [],
   "source": [
    "# Import dari sklearn\n",
    "from sklearn.neighbors import KNeighborsClassifier\n",
    "from sklearn.linear_model import LogisticRegression\n",
    "from sklearn.ensemble import RandomForestClassifier"
   ]
  },
  {
   "cell_type": "markdown",
   "id": "6caafb86",
   "metadata": {},
   "source": [
    "### **2. Fitting Model**\n",
    "\n",
    "- Cara fitting/training model mengikuti yang dokumentasi model"
   ]
  },
  {
   "cell_type": "code",
   "execution_count": 64,
   "id": "c1cebb51",
   "metadata": {},
   "outputs": [],
   "source": [
    "# Model K nearest neighbor\n",
    "#knn = KNeighborsClassifier()\n",
    "#knn.fit(X_train_clean, y_train)"
   ]
  },
  {
   "cell_type": "code",
   "execution_count": 65,
   "id": "f138f9e8",
   "metadata": {},
   "outputs": [
    {
     "data": {
      "text/plain": [
       "LogisticRegression(random_state=123)"
      ]
     },
     "execution_count": 65,
     "metadata": {},
     "output_type": "execute_result"
    }
   ],
   "source": [
    "# Model Logistic Regression\n",
    "logreg = LogisticRegression(random_state = 123)\n",
    "logreg.fit(X_train_clean, y_train)"
   ]
  },
  {
   "cell_type": "code",
   "execution_count": 66,
   "id": "46ad41ce",
   "metadata": {},
   "outputs": [
    {
     "data": {
      "text/plain": [
       "RandomForestClassifier(random_state=123)"
      ]
     },
     "execution_count": 66,
     "metadata": {},
     "output_type": "execute_result"
    }
   ],
   "source": [
    "# Model Random Forest Classifier\n",
    "random_forest = RandomForestClassifier(random_state = 123)\n",
    "random_forest.fit(X_train_clean, y_train)"
   ]
  },
  {
   "cell_type": "code",
   "execution_count": 67,
   "id": "99076ff4",
   "metadata": {},
   "outputs": [],
   "source": [
    "# Model Random Forest Classifier 1\n",
    "# Mari kita ubah hyperparameter dari random forest --> n_estimator\n",
    "# Maksud & tujuan akan dijelaskan pada kelas Random Forest\n",
    "# Tambahkan n_estimator = 500\n",
    "\n",
    "#random_forest_1 = RandomForestClassifier(random_state = 123,\n",
    "#                                         n_estimators = 500)\n",
    "#random_forest_1.fit(X_train_clean, y_train)"
   ]
  },
  {
   "cell_type": "markdown",
   "id": "08738c7c",
   "metadata": {},
   "source": [
    "### **3. Prediction**\n",
    "\n",
    "- Saatnya melakukan prediksi"
   ]
  },
  {
   "cell_type": "code",
   "execution_count": 68,
   "id": "e096aea7",
   "metadata": {},
   "outputs": [
    {
     "data": {
      "text/plain": [
       "array([0, 0, 0, ..., 0, 0, 1], dtype=int64)"
      ]
     },
     "execution_count": 68,
     "metadata": {},
     "output_type": "execute_result"
    }
   ],
   "source": [
    "# Prediksi Logistic Regression\n",
    "logreg.predict(X_train_clean)"
   ]
  },
  {
   "cell_type": "code",
   "execution_count": 69,
   "id": "91951a83",
   "metadata": {},
   "outputs": [
    {
     "data": {
      "text/html": [
       "<div>\n",
       "<style scoped>\n",
       "    .dataframe tbody tr th:only-of-type {\n",
       "        vertical-align: middle;\n",
       "    }\n",
       "\n",
       "    .dataframe tbody tr th {\n",
       "        vertical-align: top;\n",
       "    }\n",
       "\n",
       "    .dataframe thead th {\n",
       "        text-align: right;\n",
       "    }\n",
       "</style>\n",
       "<table border=\"1\" class=\"dataframe\">\n",
       "  <thead>\n",
       "    <tr style=\"text-align: right;\">\n",
       "      <th></th>\n",
       "      <th>0</th>\n",
       "    </tr>\n",
       "  </thead>\n",
       "  <tbody>\n",
       "    <tr>\n",
       "      <th>0</th>\n",
       "      <td>0</td>\n",
       "    </tr>\n",
       "    <tr>\n",
       "      <th>1</th>\n",
       "      <td>0</td>\n",
       "    </tr>\n",
       "    <tr>\n",
       "      <th>2</th>\n",
       "      <td>0</td>\n",
       "    </tr>\n",
       "    <tr>\n",
       "      <th>3</th>\n",
       "      <td>0</td>\n",
       "    </tr>\n",
       "    <tr>\n",
       "      <th>4</th>\n",
       "      <td>0</td>\n",
       "    </tr>\n",
       "    <tr>\n",
       "      <th>...</th>\n",
       "      <td>...</td>\n",
       "    </tr>\n",
       "    <tr>\n",
       "      <th>33903</th>\n",
       "      <td>0</td>\n",
       "    </tr>\n",
       "    <tr>\n",
       "      <th>33904</th>\n",
       "      <td>0</td>\n",
       "    </tr>\n",
       "    <tr>\n",
       "      <th>33905</th>\n",
       "      <td>0</td>\n",
       "    </tr>\n",
       "    <tr>\n",
       "      <th>33906</th>\n",
       "      <td>0</td>\n",
       "    </tr>\n",
       "    <tr>\n",
       "      <th>33907</th>\n",
       "      <td>1</td>\n",
       "    </tr>\n",
       "  </tbody>\n",
       "</table>\n",
       "<p>33908 rows × 1 columns</p>\n",
       "</div>"
      ],
      "text/plain": [
       "       0\n",
       "0      0\n",
       "1      0\n",
       "2      0\n",
       "3      0\n",
       "4      0\n",
       "...   ..\n",
       "33903  0\n",
       "33904  0\n",
       "33905  0\n",
       "33906  0\n",
       "33907  1\n",
       "\n",
       "[33908 rows x 1 columns]"
      ]
     },
     "execution_count": 69,
     "metadata": {},
     "output_type": "execute_result"
    }
   ],
   "source": [
    "predicted_logreg = pd.DataFrame(logreg.predict(X_train_clean))\n",
    "predicted_logreg"
   ]
  },
  {
   "cell_type": "code",
   "execution_count": 70,
   "id": "83029eae",
   "metadata": {},
   "outputs": [],
   "source": [
    "#predicted_knn = pd.DataFrame(knn.predict(X_train_clean))\n",
    "#predicted_knn.head()"
   ]
  },
  {
   "cell_type": "code",
   "execution_count": 71,
   "id": "70e7d9d7",
   "metadata": {},
   "outputs": [
    {
     "data": {
      "text/html": [
       "<div>\n",
       "<style scoped>\n",
       "    .dataframe tbody tr th:only-of-type {\n",
       "        vertical-align: middle;\n",
       "    }\n",
       "\n",
       "    .dataframe tbody tr th {\n",
       "        vertical-align: top;\n",
       "    }\n",
       "\n",
       "    .dataframe thead th {\n",
       "        text-align: right;\n",
       "    }\n",
       "</style>\n",
       "<table border=\"1\" class=\"dataframe\">\n",
       "  <thead>\n",
       "    <tr style=\"text-align: right;\">\n",
       "      <th></th>\n",
       "      <th>0</th>\n",
       "    </tr>\n",
       "  </thead>\n",
       "  <tbody>\n",
       "    <tr>\n",
       "      <th>0</th>\n",
       "      <td>0</td>\n",
       "    </tr>\n",
       "    <tr>\n",
       "      <th>1</th>\n",
       "      <td>0</td>\n",
       "    </tr>\n",
       "    <tr>\n",
       "      <th>2</th>\n",
       "      <td>0</td>\n",
       "    </tr>\n",
       "    <tr>\n",
       "      <th>3</th>\n",
       "      <td>0</td>\n",
       "    </tr>\n",
       "    <tr>\n",
       "      <th>4</th>\n",
       "      <td>0</td>\n",
       "    </tr>\n",
       "  </tbody>\n",
       "</table>\n",
       "</div>"
      ],
      "text/plain": [
       "   0\n",
       "0  0\n",
       "1  0\n",
       "2  0\n",
       "3  0\n",
       "4  0"
      ]
     },
     "execution_count": 71,
     "metadata": {},
     "output_type": "execute_result"
    }
   ],
   "source": [
    "predicted_rf = pd.DataFrame(random_forest.predict(X_train_clean))\n",
    "predicted_rf.head()"
   ]
  },
  {
   "cell_type": "code",
   "execution_count": 72,
   "id": "5cf36a64",
   "metadata": {},
   "outputs": [],
   "source": [
    "#predicted_rf_1 = pd.DataFrame(random_forest_1.predict(X_train_clean))\n",
    "#predicted_rf_1.head()"
   ]
  },
  {
   "cell_type": "markdown",
   "id": "687b7369",
   "metadata": {},
   "source": [
    "### **4. Cek performa model di data training**"
   ]
  },
  {
   "cell_type": "code",
   "execution_count": 73,
   "id": "594190a8",
   "metadata": {},
   "outputs": [
    {
     "data": {
      "text/plain": [
       "0.8826235696590775"
      ]
     },
     "execution_count": 73,
     "metadata": {},
     "output_type": "execute_result"
    }
   ],
   "source": [
    "benchmark = y_train.value_counts(normalize=True)[0]\n",
    "benchmark"
   ]
  },
  {
   "cell_type": "code",
   "execution_count": 74,
   "id": "605a6989",
   "metadata": {},
   "outputs": [],
   "source": [
    "# akurasi knn\n",
    "#knn.score(X_train_clean, y_train)"
   ]
  },
  {
   "cell_type": "code",
   "execution_count": 75,
   "id": "428dd06f",
   "metadata": {},
   "outputs": [
    {
     "data": {
      "text/plain": [
       "0.9013212221304707"
      ]
     },
     "execution_count": 75,
     "metadata": {},
     "output_type": "execute_result"
    }
   ],
   "source": [
    "# akurasi logistic regression\n",
    "logreg.score(X_train_clean, y_train)"
   ]
  },
  {
   "cell_type": "code",
   "execution_count": 76,
   "id": "99f94c38",
   "metadata": {},
   "outputs": [
    {
     "data": {
      "text/plain": [
       "0.9999705084345877"
      ]
     },
     "execution_count": 76,
     "metadata": {},
     "output_type": "execute_result"
    }
   ],
   "source": [
    "# akurasi random forest\n",
    "random_forest.score(X_train_clean, y_train)"
   ]
  },
  {
   "cell_type": "code",
   "execution_count": 77,
   "id": "5d02fa67",
   "metadata": {},
   "outputs": [],
   "source": [
    "# akurasi random forest 1\n",
    "#random_forest_1.score(X_train_clean, y_train)"
   ]
  },
  {
   "cell_type": "markdown",
   "id": "029dee44",
   "metadata": {},
   "source": [
    "### **5. Simpan model ke file pickle**"
   ]
  },
  {
   "cell_type": "code",
   "execution_count": 78,
   "id": "ed8e8ecc",
   "metadata": {},
   "outputs": [
    {
     "data": {
      "text/plain": [
       "['random_forest.pkl']"
      ]
     },
     "execution_count": 78,
     "metadata": {},
     "output_type": "execute_result"
    }
   ],
   "source": [
    "import joblib\n",
    "\n",
    "# Simpan model logreg ke dalam folder yang sama dengan notebook\n",
    "# dengan nama logreg.pkl\n",
    "joblib.dump(logreg, \"logreg.pkl\")\n",
    "\n",
    "#joblib.dump(knn, \"knn.pkl\")\n",
    "joblib.dump(random_forest, \"random_forest.pkl\")\n",
    "#joblib.dump(random_forest_1, \"random_forest_1.pkl\")"
   ]
  },
  {
   "cell_type": "markdown",
   "id": "6dbc47af",
   "metadata": {},
   "source": [
    "### **6. Test Prediction**\n",
    "\n",
    "1. Siapkan file test dataset\n",
    "2. Lakukan preprocessing yang sama dengan yang dilakukan di train dataset\n",
    "3. gunakan `imputer_numerical` dan `standardizer` yang telah di-fit di train dataset"
   ]
  },
  {
   "cell_type": "code",
   "execution_count": 79,
   "id": "f47afe28",
   "metadata": {},
   "outputs": [],
   "source": [
    "def extractTest(data,\n",
    "                numerical_column, categorical_column, ohe_column,\n",
    "                imputer_numerical, standardizer):\n",
    "    \"\"\"\n",
    "    Fungsi untuk mengekstrak & membersihkan test data \n",
    "    :param data: <pandas dataframe> sampel data test\n",
    "    :param numerical_column: <list> kolom numerik\n",
    "    :param categorical_column: <list> kolom kategorik\n",
    "    :param ohe_column: <list> kolom one-hot-encoding dari data kategorik\n",
    "    :param imputer_numerical: <sklearn method> imputer data numerik\n",
    "    :param standardizer: <sklearn method> standardizer data\n",
    "    :return cleaned_data: <pandas dataframe> data final\n",
    "    \"\"\"\n",
    "    # Filter data\n",
    "    numerical_data = data[numerical_column]\n",
    "    categorical_data = data[categorical_column]\n",
    "\n",
    "    # Proses data numerik\n",
    "    numerical_data = pd.DataFrame(imputer_numerical.transform(numerical_data))\n",
    "    numerical_data.columns = numerical_column\n",
    "    numerical_data.index = data.index\n",
    "\n",
    "    # Proses data kategorik\n",
    "    categorical_data = categorical_data.fillna(value=\"KOSONG\")\n",
    "    categorical_data.index = data.index\n",
    "    categorical_data = pd.get_dummies(categorical_data)\n",
    "    categorical_data.reindex(index = categorical_data.index, \n",
    "                             columns = ohe_column)\n",
    "\n",
    "    # Gabungkan data\n",
    "    concat_data = pd.concat([numerical_data, categorical_data],\n",
    "                             axis = 1)\n",
    "    cleaned_data = pd.DataFrame(standardizer.transform(concat_data))\n",
    "    cleaned_data.columns = concat_data.columns\n",
    "\n",
    "    return cleaned_data\n"
   ]
  },
  {
   "cell_type": "code",
   "execution_count": 80,
   "id": "eedbf9a3",
   "metadata": {},
   "outputs": [],
   "source": [
    "def testPrediction(X_test, y_test, classifier, compute_score):\n",
    "    \"\"\"\n",
    "    Fungsi untuk mendapatkan prediksi dari model\n",
    "    :param X_test: <pandas dataframe> input\n",
    "    :param y_test: <pandas series> output/target\n",
    "    :param classifier: <sklearn method> model klasifikasi\n",
    "    :param compute_score: <bool> True: menampilkan score, False: tidak\n",
    "    :return test_predict: <list> hasil prediksi data input\n",
    "    :return score: <float> akurasi model\n",
    "    \"\"\"\n",
    "    if compute_score:\n",
    "        score = classifier.score(X_test, y_test)\n",
    "        print(f\"Accuracy : {score:.4f}\")\n",
    "\n",
    "    test_predict = classifier.predict(X_test)\n",
    "\n",
    "    return test_predict, score"
   ]
  },
  {
   "cell_type": "code",
   "execution_count": 81,
   "id": "20030a5e",
   "metadata": {},
   "outputs": [],
   "source": [
    "X_test_clean = extractTest(data = X_test,\n",
    "                           numerical_column = numerical_column,\n",
    "                           categorical_column = categorical_column,\n",
    "                           ohe_column = ohe_columns,\n",
    "                           imputer_numerical = imputer_numerical,\n",
    "                           standardizer = standardizer)"
   ]
  },
  {
   "cell_type": "code",
   "execution_count": 82,
   "id": "77997b61",
   "metadata": {},
   "outputs": [
    {
     "data": {
      "text/plain": [
       "(11303, 51)"
      ]
     },
     "execution_count": 82,
     "metadata": {},
     "output_type": "execute_result"
    }
   ],
   "source": [
    "X_test_clean.shape"
   ]
  },
  {
   "cell_type": "code",
   "execution_count": 83,
   "id": "04f936ee",
   "metadata": {},
   "outputs": [
    {
     "name": "stdout",
     "output_type": "stream",
     "text": [
      "Accuracy : 0.9036\n"
     ]
    }
   ],
   "source": [
    "# Logistic Regression Performance\n",
    "logreg_test_predict, score = testPrediction(X_test = X_test_clean,\n",
    "                                            y_test = y_test,\n",
    "                                            classifier = logreg,\n",
    "                                            compute_score = True)"
   ]
  },
  {
   "cell_type": "code",
   "execution_count": 84,
   "id": "8b41fb13",
   "metadata": {},
   "outputs": [],
   "source": [
    "# K nearest neighbor Performance\n",
    "#knn_test_predict, score = testPrediction(X_test = X_test_clean,\n",
    "#                                         y_test = y_test,\n",
    "#                                         classifier = knn,\n",
    "#                                         compute_score = True)"
   ]
  },
  {
   "cell_type": "code",
   "execution_count": 85,
   "id": "74346e85",
   "metadata": {},
   "outputs": [
    {
     "name": "stdout",
     "output_type": "stream",
     "text": [
      "Accuracy : 0.9045\n"
     ]
    }
   ],
   "source": [
    "# Random Forest Performance\n",
    "rf_test_predict, score = testPrediction(X_test = X_test_clean,\n",
    "                                        y_test = y_test,\n",
    "                                        classifier = random_forest,\n",
    "                                        compute_score = True)"
   ]
  },
  {
   "cell_type": "code",
   "execution_count": 86,
   "id": "d8d3e1db",
   "metadata": {},
   "outputs": [],
   "source": [
    "# Random Forest 1 Performance\n",
    "#rf_1_test_predict, score = testPrediction(X_test = X_test_clean,\n",
    "#                                          y_test = y_test,\n",
    "#                                          classifier = random_forest_1,\n",
    "#                                          compute_score = True)  "
   ]
  },
  {
   "cell_type": "code",
   "execution_count": null,
   "id": "a439fef6",
   "metadata": {},
   "outputs": [],
   "source": []
  }
 ],
 "metadata": {
  "kernelspec": {
   "display_name": "Python 3 (ipykernel)",
   "language": "python",
   "name": "python3"
  },
  "language_info": {
   "codemirror_mode": {
    "name": "ipython",
    "version": 3
   },
   "file_extension": ".py",
   "mimetype": "text/x-python",
   "name": "python",
   "nbconvert_exporter": "python",
   "pygments_lexer": "ipython3",
   "version": "3.9.12"
  }
 },
 "nbformat": 4,
 "nbformat_minor": 5
}
